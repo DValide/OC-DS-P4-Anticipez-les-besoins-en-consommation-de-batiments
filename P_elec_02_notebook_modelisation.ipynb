{
 "cells": [
  {
   "cell_type": "markdown",
   "id": "1fec8376",
   "metadata": {
    "toc": true
   },
   "source": [
    "<h1>Table of Contents<span class=\"tocSkip\"></span></h1>\n",
    "<div class=\"toc\"><ul class=\"toc-item\"><li><span><a href=\"#Objectifs:--\" data-toc-modified-id=\"Objectifs:---1\"><span class=\"toc-item-num\">1&nbsp;&nbsp;</span><strong>Objectifs</strong>:  </a></span></li><li><span><a href=\"#Importations\" data-toc-modified-id=\"Importations-2\"><span class=\"toc-item-num\">2&nbsp;&nbsp;</span>Importations</a></span></li><li><span><a href=\"#Preprocessing\" data-toc-modified-id=\"Preprocessing-3\"><span class=\"toc-item-num\">3&nbsp;&nbsp;</span>Preprocessing</a></span><ul class=\"toc-item\"><li><span><a href=\"#Dataset-pour-l'étude-de-l'Energy-Star\" data-toc-modified-id=\"Dataset-pour-l'étude-de-l'Energy-Star-3.1\"><span class=\"toc-item-num\">3.1&nbsp;&nbsp;</span>Dataset pour l'étude de l'Energy Star</a></span><ul class=\"toc-item\"><li><span><a href=\"#Séparation-en-train-et-test-set\" data-toc-modified-id=\"Séparation-en-train-et-test-set-3.1.1\"><span class=\"toc-item-num\">3.1.1&nbsp;&nbsp;</span>Séparation en train et test set</a></span></li></ul></li><li><span><a href=\"#Dataset-pour-le-choix-de-modèle\" data-toc-modified-id=\"Dataset-pour-le-choix-de-modèle-3.2\"><span class=\"toc-item-num\">3.2&nbsp;&nbsp;</span>Dataset pour le choix de modèle</a></span></li><li><span><a href=\"#Séparation-en-train-et-test-set\" data-toc-modified-id=\"Séparation-en-train-et-test-set-3.3\"><span class=\"toc-item-num\">3.3&nbsp;&nbsp;</span>Séparation en train et test set</a></span></li><li><span><a href=\"#Standardisation-et-encodage-pour-données-de-tests-et-d'entrainements\" data-toc-modified-id=\"Standardisation-et-encodage-pour-données-de-tests-et-d'entrainements-3.4\"><span class=\"toc-item-num\">3.4&nbsp;&nbsp;</span>Standardisation et encodage pour données de tests et d'entrainements</a></span><ul class=\"toc-item\"><li><span><a href=\"#Encodage\" data-toc-modified-id=\"Encodage-3.4.1\"><span class=\"toc-item-num\">3.4.1&nbsp;&nbsp;</span>Encodage</a></span></li><li><span><a href=\"#Standardisation\" data-toc-modified-id=\"Standardisation-3.4.2\"><span class=\"toc-item-num\">3.4.2&nbsp;&nbsp;</span>Standardisation</a></span></li></ul></li></ul></li><li><span><a href=\"#Modèles-pour-la-consommation-totale-d'énergie\" data-toc-modified-id=\"Modèles-pour-la-consommation-totale-d'énergie-4\"><span class=\"toc-item-num\">4&nbsp;&nbsp;</span>Modèles pour la consommation totale d'énergie</a></span><ul class=\"toc-item\"><li><span><a href=\"#Baseline\" data-toc-modified-id=\"Baseline-4.1\"><span class=\"toc-item-num\">4.1&nbsp;&nbsp;</span>Baseline</a></span></li><li><span><a href=\"#Tunning-de-paramètres\" data-toc-modified-id=\"Tunning-de-paramètres-4.2\"><span class=\"toc-item-num\">4.2&nbsp;&nbsp;</span>Tunning de paramètres</a></span><ul class=\"toc-item\"><li><span><a href=\"#Elastic-Net\" data-toc-modified-id=\"Elastic-Net-4.2.1\"><span class=\"toc-item-num\">4.2.1&nbsp;&nbsp;</span>Elastic Net</a></span></li><li><span><a href=\"#Random-Forest\" data-toc-modified-id=\"Random-Forest-4.2.2\"><span class=\"toc-item-num\">4.2.2&nbsp;&nbsp;</span>Random Forest</a></span></li><li><span><a href=\"#SVR\" data-toc-modified-id=\"SVR-4.2.3\"><span class=\"toc-item-num\">4.2.3&nbsp;&nbsp;</span>SVR</a></span></li><li><span><a href=\"#Light-Gradient-Boosting-Machine\" data-toc-modified-id=\"Light-Gradient-Boosting-Machine-4.2.4\"><span class=\"toc-item-num\">4.2.4&nbsp;&nbsp;</span>Light Gradient Boosting Machine</a></span></li></ul></li></ul></li><li><span><a href=\"#Modèles-pour-les-émissions-de-CO2\" data-toc-modified-id=\"Modèles-pour-les-émissions-de-CO2-5\"><span class=\"toc-item-num\">5&nbsp;&nbsp;</span>Modèles pour les émissions de CO2</a></span><ul class=\"toc-item\"><li><span><a href=\"#Baseline\" data-toc-modified-id=\"Baseline-5.1\"><span class=\"toc-item-num\">5.1&nbsp;&nbsp;</span>Baseline</a></span></li><li><span><a href=\"#Tunning-des-paramètres\" data-toc-modified-id=\"Tunning-des-paramètres-5.2\"><span class=\"toc-item-num\">5.2&nbsp;&nbsp;</span>Tunning des paramètres</a></span><ul class=\"toc-item\"><li><span><a href=\"#Elastic-Net\" data-toc-modified-id=\"Elastic-Net-5.2.1\"><span class=\"toc-item-num\">5.2.1&nbsp;&nbsp;</span>Elastic Net</a></span></li><li><span><a href=\"#Random_Forest\" data-toc-modified-id=\"Random_Forest-5.2.2\"><span class=\"toc-item-num\">5.2.2&nbsp;&nbsp;</span>Random_Forest</a></span></li><li><span><a href=\"#SVR\" data-toc-modified-id=\"SVR-5.2.3\"><span class=\"toc-item-num\">5.2.3&nbsp;&nbsp;</span>SVR</a></span></li><li><span><a href=\"#Light-GBM\" data-toc-modified-id=\"Light-GBM-5.2.4\"><span class=\"toc-item-num\">5.2.4&nbsp;&nbsp;</span>Light GBM</a></span></li></ul></li></ul></li><li><span><a href=\"#Choix-du-Modele\" data-toc-modified-id=\"Choix-du-Modele-6\"><span class=\"toc-item-num\">6&nbsp;&nbsp;</span>Choix du Modele</a></span><ul class=\"toc-item\"><li><span><a href=\"#Features-importances\" data-toc-modified-id=\"Features-importances-6.1\"><span class=\"toc-item-num\">6.1&nbsp;&nbsp;</span>Features importances</a></span></li><li><span><a href=\"#Analyse-des-prédictions\" data-toc-modified-id=\"Analyse-des-prédictions-6.2\"><span class=\"toc-item-num\">6.2&nbsp;&nbsp;</span>Analyse des prédictions</a></span></li></ul></li><li><span><a href=\"#Interet-de-Energy-star-score\" data-toc-modified-id=\"Interet-de-Energy-star-score-7\"><span class=\"toc-item-num\">7&nbsp;&nbsp;</span>Interet de Energy star score</a></span><ul class=\"toc-item\"><li><span><a href=\"#Encodage\" data-toc-modified-id=\"Encodage-7.1\"><span class=\"toc-item-num\">7.1&nbsp;&nbsp;</span>Encodage</a></span></li><li><span><a href=\"#Standardisation\" data-toc-modified-id=\"Standardisation-7.2\"><span class=\"toc-item-num\">7.2&nbsp;&nbsp;</span>Standardisation</a></span></li><li><span><a href=\"#Entrainement-et-cross-validation\" data-toc-modified-id=\"Entrainement-et-cross-validation-7.3\"><span class=\"toc-item-num\">7.3&nbsp;&nbsp;</span>Entrainement et cross validation</a></span><ul class=\"toc-item\"><li><span><a href=\"#Comparaison\" data-toc-modified-id=\"Comparaison-7.3.1\"><span class=\"toc-item-num\">7.3.1&nbsp;&nbsp;</span>Comparaison</a></span></li><li><span><a href=\"#Features-importances\" data-toc-modified-id=\"Features-importances-7.3.2\"><span class=\"toc-item-num\">7.3.2&nbsp;&nbsp;</span>Features importances</a></span></li></ul></li></ul></li></ul></div>"
   ]
  },
  {
   "cell_type": "markdown",
   "id": "b5ac346a",
   "metadata": {},
   "source": [
    "# P4 Anticipez les besoins en consommation électrique de bâtiments\n",
    "\n",
    "![image1](seattle_logo.png \"Seattle\")\n",
    "\n",
    "Pour atteindre son objectif de ville neutre en émissions de carbone en 2050, votre équipe s’intéresse de près aux émissions des $bâtiments$ $non$ $destinés$ $à$ $l’habitation$.  \n",
    "\n",
    "Des relevés minutieux ont été effectués par vos agents en 2015 et en 2016. \n",
    "\n",
    "**Objectifs**:  \n",
    "---------------------\n",
    "   - prédire les émissions de CO2\n",
    "   - prédire la consommation totale d’énergie de bâtiments**\n",
    "   - évaluer l’intérêt de l’\"ENERGY STAR Score\" pour la prédiction d’émissions\n",
    "\n",
    "\n",
    "**SOURCE :**\n",
    "\n",
    "https://www.kaggle.com/city-of-seattle/sea-building-energy-benchmarking\n",
    "\n",
    "----------------------------------------------------------\n",
    "\n",
    "Nous avons nettoyé et réaliser une courte analyse exploratoire dans le premier notebook. Ici nous allons procéder à la modélisation et aux tests des différents modéles de prédiction.\n",
    "\n",
    "# P_elec notebook modélisation \n",
    "\n",
    "## Importations "
   ]
  },
  {
   "cell_type": "code",
   "execution_count": 1,
   "id": "60fbdf99",
   "metadata": {},
   "outputs": [
    {
     "data": {
      "text/html": [
       "        <script type=\"text/javascript\">\n",
       "        window.PlotlyConfig = {MathJaxConfig: 'local'};\n",
       "        if (window.MathJax) {MathJax.Hub.Config({SVG: {font: \"STIX-Web\"}});}\n",
       "        if (typeof require !== 'undefined') {\n",
       "        require.undef(\"plotly\");\n",
       "        requirejs.config({\n",
       "            paths: {\n",
       "                'plotly': ['https://cdn.plot.ly/plotly-2.9.0.min']\n",
       "            }\n",
       "        });\n",
       "        require(['plotly'], function(Plotly) {\n",
       "            window._Plotly = Plotly;\n",
       "        });\n",
       "        }\n",
       "        </script>\n",
       "        "
      ]
     },
     "metadata": {},
     "output_type": "display_data"
    },
    {
     "name": "stdout",
     "output_type": "stream",
     "text": [
      "Version des librairies utilisées :\n",
      "NumPy                 : 1.20.3\n",
      "Pandas                : 1.4.1\n",
      "Python                : 3.9.7 (default, Sep 16 2021, 16:59:28) [MSC v.1916 64 bit (AMD64)]\n",
      "Plotly                : 5.6.0\n",
      "Scipy                 : 1.7.3\n",
      "Seaborn               : 0.11.2\n",
      "Sklearn               : 1.0.2\n"
     ]
    }
   ],
   "source": [
    "import datetime\n",
    "import lightgbm as lgb\n",
    "import matplotlib.pyplot as plt\n",
    "import missingno as msno\n",
    "import numpy as np\n",
    "import plotly\n",
    "import pandas as pd\n",
    "from plotly.offline import init_notebook_mode\n",
    "init_notebook_mode(connected=True)\n",
    "import plotly.express as px\n",
    "\n",
    "\n",
    "import scipy\n",
    "from scipy.stats import normaltest\n",
    "import seaborn as sns\n",
    "import sklearn\n",
    "from sklearn.dummy import DummyRegressor\n",
    "from sklearn.model_selection import cross_validate, train_test_split, GridSearchCV\n",
    "from sklearn.metrics import mean_absolute_error, mean_squared_error,  mean_absolute_percentage_error, r2_score\n",
    "#from sklearn.linear_model import LinearRegression, Ridge, Lasso\n",
    "from sklearn import linear_model\n",
    "\n",
    "from sklearn.svm import SVR, LinearSVR\n",
    "from sklearn.ensemble import RandomForestRegressor\n",
    "from sklearn.preprocessing import OneHotEncoder\n",
    "import sys\n",
    "\n",
    "import time\n",
    "#%matplotlib inline\n",
    "\n",
    "import warnings\n",
    "\n",
    "warnings.filterwarnings('ignore')\n",
    "\n",
    "pd.set_option('display.max_columns', 100)\n",
    "\n",
    "# Versions\n",
    "print('Version des librairies utilisées :')\n",
    "\n",
    "print('NumPy                 : ' + np.version.full_version)\n",
    "print('Pandas                : ' + pd.__version__)\n",
    "print('Python                : ' + sys.version)\n",
    "print('Plotly                : ' + plotly.__version__)\n",
    "#print('Matplotlib            : ' + mpl.__version__)\n",
    "print('Scipy                 : '+ scipy.__version__)\n",
    "print('Seaborn               : ' + sns.__version__)\n",
    "print('Sklearn               : ' + sklearn.__version__)\n",
    "#print('jyquickhelper         : ' + jyquickhelper.__version__)"
   ]
  },
  {
   "cell_type": "code",
   "execution_count": 2,
   "id": "95588daf",
   "metadata": {},
   "outputs": [
    {
     "data": {
      "text/html": [
       "<div>\n",
       "<style scoped>\n",
       "    .dataframe tbody tr th:only-of-type {\n",
       "        vertical-align: middle;\n",
       "    }\n",
       "\n",
       "    .dataframe tbody tr th {\n",
       "        vertical-align: top;\n",
       "    }\n",
       "\n",
       "    .dataframe thead th {\n",
       "        text-align: right;\n",
       "    }\n",
       "</style>\n",
       "<table border=\"1\" class=\"dataframe\">\n",
       "  <thead>\n",
       "    <tr style=\"text-align: right;\">\n",
       "      <th></th>\n",
       "      <th>Unnamed: 0</th>\n",
       "      <th>BuildingType</th>\n",
       "      <th>PrimaryPropertyType</th>\n",
       "      <th>PropertyName</th>\n",
       "      <th>Neighborhood</th>\n",
       "      <th>LargestPropertyUseType</th>\n",
       "      <th>SecondLargestPropertyUseType</th>\n",
       "      <th>ThirdLargestPropertyUseType</th>\n",
       "      <th>BuildingAge</th>\n",
       "      <th>ENERGYSTARScore</th>\n",
       "      <th>SteamUse(kBtu)</th>\n",
       "      <th>Electricity(kBtu)</th>\n",
       "      <th>NaturalGas(kBtu)</th>\n",
       "      <th>RateParking</th>\n",
       "      <th>RateBuilding</th>\n",
       "      <th>RatePerFloors</th>\n",
       "      <th>RatePerBuildings</th>\n",
       "      <th>RateLargestPropertyUseType</th>\n",
       "      <th>RateSecondLargestPropertyUseType</th>\n",
       "      <th>RateThirdLargestPropertyUseType</th>\n",
       "      <th>NumberOfAllUseTypes</th>\n",
       "      <th>haversine_distance</th>\n",
       "      <th>TotalGHGEmissionsLog</th>\n",
       "      <th>SiteEnergyUse(kBtu)Log</th>\n",
       "    </tr>\n",
       "  </thead>\n",
       "  <tbody>\n",
       "    <tr>\n",
       "      <th>0</th>\n",
       "      <td>0</td>\n",
       "      <td>Multifamily LR (1-4)</td>\n",
       "      <td>Residential</td>\n",
       "      <td>GATEWOOD APTS</td>\n",
       "      <td>DOWNTOWN</td>\n",
       "      <td>Residential</td>\n",
       "      <td>Commercial</td>\n",
       "      <td>no use</td>\n",
       "      <td>115</td>\n",
       "      <td>75.0</td>\n",
       "      <td>1.0</td>\n",
       "      <td>1.0</td>\n",
       "      <td>1.0</td>\n",
       "      <td>0.0000</td>\n",
       "      <td>1.0000</td>\n",
       "      <td>12095.75</td>\n",
       "      <td>48383.0</td>\n",
       "      <td>0.7890</td>\n",
       "      <td>0.2110</td>\n",
       "      <td>0.0000</td>\n",
       "      <td>2</td>\n",
       "      <td>0.741385</td>\n",
       "      <td>2.053309</td>\n",
       "      <td>6.470313</td>\n",
       "    </tr>\n",
       "    <tr>\n",
       "      <th>1</th>\n",
       "      <td>1</td>\n",
       "      <td>Multifamily LR (1-4)</td>\n",
       "      <td>Residential</td>\n",
       "      <td>WEST SEATTLE COMM. RESOURCE CENTER/FOOD BANK A...</td>\n",
       "      <td>DELRIDGE</td>\n",
       "      <td>Residential</td>\n",
       "      <td>no use</td>\n",
       "      <td>no use</td>\n",
       "      <td>8</td>\n",
       "      <td>85.0</td>\n",
       "      <td>0.0</td>\n",
       "      <td>1.0</td>\n",
       "      <td>0.0</td>\n",
       "      <td>0.0000</td>\n",
       "      <td>1.0000</td>\n",
       "      <td>13033.50</td>\n",
       "      <td>52134.0</td>\n",
       "      <td>1.0000</td>\n",
       "      <td>0.0000</td>\n",
       "      <td>0.0000</td>\n",
       "      <td>1</td>\n",
       "      <td>7.645181</td>\n",
       "      <td>0.975432</td>\n",
       "      <td>6.083700</td>\n",
       "    </tr>\n",
       "    <tr>\n",
       "      <th>2</th>\n",
       "      <td>2</td>\n",
       "      <td>NonResidential</td>\n",
       "      <td>Commercial</td>\n",
       "      <td>WESTLAKE MALL RETAIL PORTION</td>\n",
       "      <td>DOWNTOWN</td>\n",
       "      <td>Commercial</td>\n",
       "      <td>no use</td>\n",
       "      <td>no use</td>\n",
       "      <td>26</td>\n",
       "      <td>91.0</td>\n",
       "      <td>0.0</td>\n",
       "      <td>1.0</td>\n",
       "      <td>0.0</td>\n",
       "      <td>0.0000</td>\n",
       "      <td>1.0000</td>\n",
       "      <td>27769.25</td>\n",
       "      <td>111077.0</td>\n",
       "      <td>0.0000</td>\n",
       "      <td>0.0000</td>\n",
       "      <td>0.0000</td>\n",
       "      <td>1</td>\n",
       "      <td>0.711242</td>\n",
       "      <td>1.845160</td>\n",
       "      <td>6.995579</td>\n",
       "    </tr>\n",
       "    <tr>\n",
       "      <th>3</th>\n",
       "      <td>3</td>\n",
       "      <td>NonResidential</td>\n",
       "      <td>Office</td>\n",
       "      <td>GALLAND &amp; SENECA BUILDINGS</td>\n",
       "      <td>DOWNTOWN</td>\n",
       "      <td>Office</td>\n",
       "      <td>no use</td>\n",
       "      <td>no use</td>\n",
       "      <td>109</td>\n",
       "      <td>45.0</td>\n",
       "      <td>0.0</td>\n",
       "      <td>1.0</td>\n",
       "      <td>1.0</td>\n",
       "      <td>0.2635</td>\n",
       "      <td>0.7365</td>\n",
       "      <td>16395.00</td>\n",
       "      <td>98370.0</td>\n",
       "      <td>1.0000</td>\n",
       "      <td>0.0000</td>\n",
       "      <td>0.0000</td>\n",
       "      <td>1</td>\n",
       "      <td>0.388111</td>\n",
       "      <td>1.683407</td>\n",
       "      <td>6.814640</td>\n",
       "    </tr>\n",
       "    <tr>\n",
       "      <th>4</th>\n",
       "      <td>4</td>\n",
       "      <td>NonResidential</td>\n",
       "      <td>Office</td>\n",
       "      <td>KING BROADCASTING</td>\n",
       "      <td>LAKE UNION</td>\n",
       "      <td>Office</td>\n",
       "      <td>Parking</td>\n",
       "      <td>Other</td>\n",
       "      <td>68</td>\n",
       "      <td>59.0</td>\n",
       "      <td>0.0</td>\n",
       "      <td>1.0</td>\n",
       "      <td>0.0</td>\n",
       "      <td>0.1953</td>\n",
       "      <td>0.8047</td>\n",
       "      <td>48447.00</td>\n",
       "      <td>193788.0</td>\n",
       "      <td>0.7156</td>\n",
       "      <td>0.2453</td>\n",
       "      <td>0.0576</td>\n",
       "      <td>5</td>\n",
       "      <td>1.889795</td>\n",
       "      <td>2.071293</td>\n",
       "      <td>7.224280</td>\n",
       "    </tr>\n",
       "  </tbody>\n",
       "</table>\n",
       "</div>"
      ],
      "text/plain": [
       "   Unnamed: 0          BuildingType PrimaryPropertyType  \\\n",
       "0           0  Multifamily LR (1-4)         Residential   \n",
       "1           1  Multifamily LR (1-4)         Residential   \n",
       "2           2        NonResidential          Commercial   \n",
       "3           3        NonResidential              Office   \n",
       "4           4        NonResidential              Office   \n",
       "\n",
       "                                        PropertyName Neighborhood  \\\n",
       "0                                      GATEWOOD APTS     DOWNTOWN   \n",
       "1  WEST SEATTLE COMM. RESOURCE CENTER/FOOD BANK A...     DELRIDGE   \n",
       "2                       WESTLAKE MALL RETAIL PORTION     DOWNTOWN   \n",
       "3                         GALLAND & SENECA BUILDINGS     DOWNTOWN   \n",
       "4                                  KING BROADCASTING   LAKE UNION   \n",
       "\n",
       "  LargestPropertyUseType SecondLargestPropertyUseType  \\\n",
       "0            Residential                   Commercial   \n",
       "1            Residential                       no use   \n",
       "2             Commercial                       no use   \n",
       "3                 Office                       no use   \n",
       "4                 Office                      Parking   \n",
       "\n",
       "  ThirdLargestPropertyUseType  BuildingAge  ENERGYSTARScore  SteamUse(kBtu)  \\\n",
       "0                      no use          115             75.0             1.0   \n",
       "1                      no use            8             85.0             0.0   \n",
       "2                      no use           26             91.0             0.0   \n",
       "3                      no use          109             45.0             0.0   \n",
       "4                       Other           68             59.0             0.0   \n",
       "\n",
       "   Electricity(kBtu)  NaturalGas(kBtu)  RateParking  RateBuilding  \\\n",
       "0                1.0               1.0       0.0000        1.0000   \n",
       "1                1.0               0.0       0.0000        1.0000   \n",
       "2                1.0               0.0       0.0000        1.0000   \n",
       "3                1.0               1.0       0.2635        0.7365   \n",
       "4                1.0               0.0       0.1953        0.8047   \n",
       "\n",
       "   RatePerFloors  RatePerBuildings  RateLargestPropertyUseType  \\\n",
       "0       12095.75           48383.0                      0.7890   \n",
       "1       13033.50           52134.0                      1.0000   \n",
       "2       27769.25          111077.0                      0.0000   \n",
       "3       16395.00           98370.0                      1.0000   \n",
       "4       48447.00          193788.0                      0.7156   \n",
       "\n",
       "   RateSecondLargestPropertyUseType  RateThirdLargestPropertyUseType  \\\n",
       "0                            0.2110                           0.0000   \n",
       "1                            0.0000                           0.0000   \n",
       "2                            0.0000                           0.0000   \n",
       "3                            0.0000                           0.0000   \n",
       "4                            0.2453                           0.0576   \n",
       "\n",
       "   NumberOfAllUseTypes  haversine_distance  TotalGHGEmissionsLog  \\\n",
       "0                    2            0.741385              2.053309   \n",
       "1                    1            7.645181              0.975432   \n",
       "2                    1            0.711242              1.845160   \n",
       "3                    1            0.388111              1.683407   \n",
       "4                    5            1.889795              2.071293   \n",
       "\n",
       "   SiteEnergyUse(kBtu)Log  \n",
       "0                6.470313  \n",
       "1                6.083700  \n",
       "2                6.995579  \n",
       "3                6.814640  \n",
       "4                7.224280  "
      ]
     },
     "execution_count": 2,
     "metadata": {},
     "output_type": "execute_result"
    }
   ],
   "source": [
    "#Chargement des données nettoyées\n",
    "data = pd.read_csv(\"building_energy_cleaned.csv\")\n",
    "data.head()"
   ]
  },
  {
   "cell_type": "code",
   "execution_count": 3,
   "id": "11cadd1d",
   "metadata": {},
   "outputs": [
    {
     "data": {
      "text/html": [
       "<div>\n",
       "<style scoped>\n",
       "    .dataframe tbody tr th:only-of-type {\n",
       "        vertical-align: middle;\n",
       "    }\n",
       "\n",
       "    .dataframe tbody tr th {\n",
       "        vertical-align: top;\n",
       "    }\n",
       "\n",
       "    .dataframe thead th {\n",
       "        text-align: right;\n",
       "    }\n",
       "</style>\n",
       "<table border=\"1\" class=\"dataframe\">\n",
       "  <thead>\n",
       "    <tr style=\"text-align: right;\">\n",
       "      <th></th>\n",
       "      <th>Unnamed: 0</th>\n",
       "      <th>BuildingAge</th>\n",
       "      <th>ENERGYSTARScore</th>\n",
       "      <th>SteamUse(kBtu)</th>\n",
       "      <th>Electricity(kBtu)</th>\n",
       "      <th>NaturalGas(kBtu)</th>\n",
       "      <th>RateParking</th>\n",
       "      <th>RateBuilding</th>\n",
       "      <th>RatePerFloors</th>\n",
       "      <th>RatePerBuildings</th>\n",
       "      <th>RateLargestPropertyUseType</th>\n",
       "      <th>RateSecondLargestPropertyUseType</th>\n",
       "      <th>RateThirdLargestPropertyUseType</th>\n",
       "      <th>NumberOfAllUseTypes</th>\n",
       "      <th>haversine_distance</th>\n",
       "      <th>TotalGHGEmissionsLog</th>\n",
       "      <th>SiteEnergyUse(kBtu)Log</th>\n",
       "    </tr>\n",
       "  </thead>\n",
       "  <tbody>\n",
       "    <tr>\n",
       "      <th>count</th>\n",
       "      <td>3428.000000</td>\n",
       "      <td>3428.000000</td>\n",
       "      <td>2656.000000</td>\n",
       "      <td>3428.000000</td>\n",
       "      <td>3428.0</td>\n",
       "      <td>3428.000000</td>\n",
       "      <td>3428.000000</td>\n",
       "      <td>3428.000000</td>\n",
       "      <td>3.428000e+03</td>\n",
       "      <td>3.428000e+03</td>\n",
       "      <td>3428.000000</td>\n",
       "      <td>3428.000000</td>\n",
       "      <td>3428.000000</td>\n",
       "      <td>3428.000000</td>\n",
       "      <td>3428.000000</td>\n",
       "      <td>3428.000000</td>\n",
       "      <td>3428.000000</td>\n",
       "    </tr>\n",
       "    <tr>\n",
       "      <th>mean</th>\n",
       "      <td>1713.500000</td>\n",
       "      <td>47.632147</td>\n",
       "      <td>68.116717</td>\n",
       "      <td>0.039090</td>\n",
       "      <td>1.0</td>\n",
       "      <td>0.633606</td>\n",
       "      <td>0.057253</td>\n",
       "      <td>0.942894</td>\n",
       "      <td>2.455738e+04</td>\n",
       "      <td>8.743360e+04</td>\n",
       "      <td>0.872818</td>\n",
       "      <td>0.110438</td>\n",
       "      <td>0.015688</td>\n",
       "      <td>1.778880</td>\n",
       "      <td>4.778145</td>\n",
       "      <td>1.547377</td>\n",
       "      <td>6.326936</td>\n",
       "    </tr>\n",
       "    <tr>\n",
       "      <th>std</th>\n",
       "      <td>989.722688</td>\n",
       "      <td>33.184821</td>\n",
       "      <td>26.377049</td>\n",
       "      <td>0.193837</td>\n",
       "      <td>0.0</td>\n",
       "      <td>0.481889</td>\n",
       "      <td>0.117391</td>\n",
       "      <td>0.116207</td>\n",
       "      <td>5.349307e+04</td>\n",
       "      <td>1.376536e+05</td>\n",
       "      <td>0.251574</td>\n",
       "      <td>0.157172</td>\n",
       "      <td>0.049860</td>\n",
       "      <td>1.064918</td>\n",
       "      <td>3.690242</td>\n",
       "      <td>0.619556</td>\n",
       "      <td>0.515337</td>\n",
       "    </tr>\n",
       "    <tr>\n",
       "      <th>min</th>\n",
       "      <td>0.000000</td>\n",
       "      <td>1.000000</td>\n",
       "      <td>1.000000</td>\n",
       "      <td>0.000000</td>\n",
       "      <td>1.0</td>\n",
       "      <td>0.000000</td>\n",
       "      <td>0.000000</td>\n",
       "      <td>0.099100</td>\n",
       "      <td>3.115200e+03</td>\n",
       "      <td>7.166667e+03</td>\n",
       "      <td>0.000000</td>\n",
       "      <td>0.000000</td>\n",
       "      <td>0.000000</td>\n",
       "      <td>1.000000</td>\n",
       "      <td>0.019653</td>\n",
       "      <td>0.037426</td>\n",
       "      <td>0.000000</td>\n",
       "    </tr>\n",
       "    <tr>\n",
       "      <th>25%</th>\n",
       "      <td>856.750000</td>\n",
       "      <td>19.000000</td>\n",
       "      <td>52.500000</td>\n",
       "      <td>0.000000</td>\n",
       "      <td>1.0</td>\n",
       "      <td>0.000000</td>\n",
       "      <td>0.000000</td>\n",
       "      <td>0.929200</td>\n",
       "      <td>8.640000e+03</td>\n",
       "      <td>2.807800e+04</td>\n",
       "      <td>0.743575</td>\n",
       "      <td>0.000000</td>\n",
       "      <td>0.000000</td>\n",
       "      <td>1.000000</td>\n",
       "      <td>1.629678</td>\n",
       "      <td>1.024023</td>\n",
       "      <td>5.968355</td>\n",
       "    </tr>\n",
       "    <tr>\n",
       "      <th>50%</th>\n",
       "      <td>1713.500000</td>\n",
       "      <td>42.000000</td>\n",
       "      <td>75.500000</td>\n",
       "      <td>0.000000</td>\n",
       "      <td>1.0</td>\n",
       "      <td>1.000000</td>\n",
       "      <td>0.000000</td>\n",
       "      <td>1.000000</td>\n",
       "      <td>1.401658e+04</td>\n",
       "      <td>4.350300e+04</td>\n",
       "      <td>0.979650</td>\n",
       "      <td>0.000000</td>\n",
       "      <td>0.000000</td>\n",
       "      <td>1.000000</td>\n",
       "      <td>3.710248</td>\n",
       "      <td>1.542109</td>\n",
       "      <td>6.254020</td>\n",
       "    </tr>\n",
       "    <tr>\n",
       "      <th>75%</th>\n",
       "      <td>2570.250000</td>\n",
       "      <td>68.000000</td>\n",
       "      <td>89.625000</td>\n",
       "      <td>0.000000</td>\n",
       "      <td>1.0</td>\n",
       "      <td>1.000000</td>\n",
       "      <td>0.070800</td>\n",
       "      <td>1.000000</td>\n",
       "      <td>2.633329e+04</td>\n",
       "      <td>8.793325e+04</td>\n",
       "      <td>1.000000</td>\n",
       "      <td>0.204825</td>\n",
       "      <td>0.000000</td>\n",
       "      <td>2.000000</td>\n",
       "      <td>7.146241</td>\n",
       "      <td>1.967969</td>\n",
       "      <td>6.622973</td>\n",
       "    </tr>\n",
       "    <tr>\n",
       "      <th>max</th>\n",
       "      <td>3427.000000</td>\n",
       "      <td>116.000000</td>\n",
       "      <td>100.000000</td>\n",
       "      <td>1.000000</td>\n",
       "      <td>1.0</td>\n",
       "      <td>1.000000</td>\n",
       "      <td>1.251200</td>\n",
       "      <td>1.000100</td>\n",
       "      <td>2.330039e+06</td>\n",
       "      <td>1.952220e+06</td>\n",
       "      <td>6.426800</td>\n",
       "      <td>1.452100</td>\n",
       "      <td>0.929100</td>\n",
       "      <td>12.000000</td>\n",
       "      <td>14.444195</td>\n",
       "      <td>4.227166</td>\n",
       "      <td>8.941474</td>\n",
       "    </tr>\n",
       "  </tbody>\n",
       "</table>\n",
       "</div>"
      ],
      "text/plain": [
       "        Unnamed: 0  BuildingAge  ENERGYSTARScore  SteamUse(kBtu)  \\\n",
       "count  3428.000000  3428.000000      2656.000000     3428.000000   \n",
       "mean   1713.500000    47.632147        68.116717        0.039090   \n",
       "std     989.722688    33.184821        26.377049        0.193837   \n",
       "min       0.000000     1.000000         1.000000        0.000000   \n",
       "25%     856.750000    19.000000        52.500000        0.000000   \n",
       "50%    1713.500000    42.000000        75.500000        0.000000   \n",
       "75%    2570.250000    68.000000        89.625000        0.000000   \n",
       "max    3427.000000   116.000000       100.000000        1.000000   \n",
       "\n",
       "       Electricity(kBtu)  NaturalGas(kBtu)  RateParking  RateBuilding  \\\n",
       "count             3428.0       3428.000000  3428.000000   3428.000000   \n",
       "mean                 1.0          0.633606     0.057253      0.942894   \n",
       "std                  0.0          0.481889     0.117391      0.116207   \n",
       "min                  1.0          0.000000     0.000000      0.099100   \n",
       "25%                  1.0          0.000000     0.000000      0.929200   \n",
       "50%                  1.0          1.000000     0.000000      1.000000   \n",
       "75%                  1.0          1.000000     0.070800      1.000000   \n",
       "max                  1.0          1.000000     1.251200      1.000100   \n",
       "\n",
       "       RatePerFloors  RatePerBuildings  RateLargestPropertyUseType  \\\n",
       "count   3.428000e+03      3.428000e+03                 3428.000000   \n",
       "mean    2.455738e+04      8.743360e+04                    0.872818   \n",
       "std     5.349307e+04      1.376536e+05                    0.251574   \n",
       "min     3.115200e+03      7.166667e+03                    0.000000   \n",
       "25%     8.640000e+03      2.807800e+04                    0.743575   \n",
       "50%     1.401658e+04      4.350300e+04                    0.979650   \n",
       "75%     2.633329e+04      8.793325e+04                    1.000000   \n",
       "max     2.330039e+06      1.952220e+06                    6.426800   \n",
       "\n",
       "       RateSecondLargestPropertyUseType  RateThirdLargestPropertyUseType  \\\n",
       "count                       3428.000000                      3428.000000   \n",
       "mean                           0.110438                         0.015688   \n",
       "std                            0.157172                         0.049860   \n",
       "min                            0.000000                         0.000000   \n",
       "25%                            0.000000                         0.000000   \n",
       "50%                            0.000000                         0.000000   \n",
       "75%                            0.204825                         0.000000   \n",
       "max                            1.452100                         0.929100   \n",
       "\n",
       "       NumberOfAllUseTypes  haversine_distance  TotalGHGEmissionsLog  \\\n",
       "count          3428.000000         3428.000000           3428.000000   \n",
       "mean              1.778880            4.778145              1.547377   \n",
       "std               1.064918            3.690242              0.619556   \n",
       "min               1.000000            0.019653              0.037426   \n",
       "25%               1.000000            1.629678              1.024023   \n",
       "50%               1.000000            3.710248              1.542109   \n",
       "75%               2.000000            7.146241              1.967969   \n",
       "max              12.000000           14.444195              4.227166   \n",
       "\n",
       "       SiteEnergyUse(kBtu)Log  \n",
       "count             3428.000000  \n",
       "mean                 6.326936  \n",
       "std                  0.515337  \n",
       "min                  0.000000  \n",
       "25%                  5.968355  \n",
       "50%                  6.254020  \n",
       "75%                  6.622973  \n",
       "max                  8.941474  "
      ]
     },
     "execution_count": 3,
     "metadata": {},
     "output_type": "execute_result"
    }
   ],
   "source": [
    "data.describe()"
   ]
  },
  {
   "cell_type": "code",
   "execution_count": 4,
   "id": "7a1aa219",
   "metadata": {},
   "outputs": [],
   "source": [
    "if 'Unnamed: 0' in data.columns:\n",
    "    data.drop('Unnamed: 0', axis=1, inplace=True)"
   ]
  },
  {
   "cell_type": "code",
   "execution_count": 5,
   "id": "5a0c7ac8",
   "metadata": {},
   "outputs": [],
   "source": [
    "#copie pour suivi et comparaison\n",
    "data_initial= data.copy()"
   ]
  },
  {
   "cell_type": "code",
   "execution_count": 6,
   "id": "5873f980",
   "metadata": {},
   "outputs": [
    {
     "data": {
      "text/plain": [
       "BuildingType                         object\n",
       "PrimaryPropertyType                  object\n",
       "PropertyName                         object\n",
       "Neighborhood                         object\n",
       "LargestPropertyUseType               object\n",
       "SecondLargestPropertyUseType         object\n",
       "ThirdLargestPropertyUseType          object\n",
       "BuildingAge                           int64\n",
       "ENERGYSTARScore                     float64\n",
       "SteamUse(kBtu)                      float64\n",
       "Electricity(kBtu)                   float64\n",
       "NaturalGas(kBtu)                    float64\n",
       "RateParking                         float64\n",
       "RateBuilding                        float64\n",
       "RatePerFloors                       float64\n",
       "RatePerBuildings                    float64\n",
       "RateLargestPropertyUseType          float64\n",
       "RateSecondLargestPropertyUseType    float64\n",
       "RateThirdLargestPropertyUseType     float64\n",
       "NumberOfAllUseTypes                   int64\n",
       "haversine_distance                  float64\n",
       "TotalGHGEmissionsLog                float64\n",
       "SiteEnergyUse(kBtu)Log              float64\n",
       "dtype: object"
      ]
     },
     "execution_count": 6,
     "metadata": {},
     "output_type": "execute_result"
    }
   ],
   "source": [
    "data.dtypes"
   ]
  },
  {
   "cell_type": "markdown",
   "id": "30301901",
   "metadata": {},
   "source": [
    "## Preprocessing "
   ]
  },
  {
   "cell_type": "code",
   "execution_count": 7,
   "id": "73a971d4",
   "metadata": {},
   "outputs": [],
   "source": [
    "seed= 42"
   ]
  },
  {
   "cell_type": "markdown",
   "id": "77a45f20",
   "metadata": {},
   "source": [
    "Il nous reste une variable d'identification, elle nous a servi pour l'analyse exploratoire.  \n",
    "Nous n'avons plus besoin de ce type de variable. "
   ]
  },
  {
   "cell_type": "code",
   "execution_count": 8,
   "id": "bf157472",
   "metadata": {},
   "outputs": [],
   "source": [
    "data.drop(\"PropertyName\" , axis = 1, inplace= True)"
   ]
  },
  {
   "cell_type": "markdown",
   "id": "f81b3843",
   "metadata": {},
   "source": [
    "Séparons l'EnergyStar Score de notre jeu de donnée,à la fin des évaluations de nos modèles nous reviendrons dessus. "
   ]
  },
  {
   "cell_type": "markdown",
   "id": "2aa29c2d",
   "metadata": {},
   "source": [
    "### Dataset pour l'étude de l'Energy Star"
   ]
  },
  {
   "cell_type": "code",
   "execution_count": 9,
   "id": "0b07a331",
   "metadata": {},
   "outputs": [],
   "source": [
    "data_ES= data.dropna(subset = \"ENERGYSTARScore\")"
   ]
  },
  {
   "cell_type": "code",
   "execution_count": 10,
   "id": "377c7855",
   "metadata": {},
   "outputs": [],
   "source": [
    "categorical_ES = data_ES.select_dtypes(exclude = \"number\").columns.tolist()\n",
    "\n",
    "numerical_ES = data_ES.select_dtypes(include = \"number\").columns.tolist()\n",
    "\n",
    "#Suppression des target \n",
    "\n",
    "numerical_ES.remove(\"SiteEnergyUse(kBtu)Log\")\n",
    "numerical_ES.remove(\"TotalGHGEmissionsLog\")"
   ]
  },
  {
   "cell_type": "markdown",
   "id": "a058125c",
   "metadata": {},
   "source": [
    "#### Séparation en train et test set"
   ]
  },
  {
   "cell_type": "code",
   "execution_count": 11,
   "id": "4079d1fc",
   "metadata": {},
   "outputs": [],
   "source": [
    "#Target consommation totale en énergie\n",
    "X_Site_ES_log = data_ES.drop(columns = [\"SiteEnergyUse(kBtu)Log\", \"TotalGHGEmissionsLog\"])\n",
    "y_Site_ES_log = data_ES[\"SiteEnergyUse(kBtu)Log\"]\n",
    "\n",
    "X_site_ES_train, X_site_ES_test, y_site_ES_train, y_site_ES_test = train_test_split(X_Site_ES_log, y_Site_ES_log, test_size=0.2, random_state=seed)\n",
    "\n",
    "#Target émissions de Co2\n",
    "X_Co2_ES_log = data_ES.drop(columns = [ \"TotalGHGEmissionsLog\", \"SiteEnergyUse(kBtu)Log\"])\n",
    "y_Co2_ES_log = data_ES[\"TotalGHGEmissionsLog\"]\n",
    "\n",
    "X_Co2_ES_train, X_Co2_ES_test, y_Co2_ES_train, y_Co2_ES_test = train_test_split(X_Co2_ES_log, y_Co2_ES_log, test_size=0.2, random_state=seed)"
   ]
  },
  {
   "cell_type": "code",
   "execution_count": 12,
   "id": "34c4965a",
   "metadata": {},
   "outputs": [
    {
     "name": "stdout",
     "output_type": "stream",
     "text": [
      "Entrainement pour la consommation d'électrité avec Energy Star:  2124 lignes,\n",
      " Test: 532 lignes.\n",
      "\n",
      "Entrainement pour les émissions de Co2 avec Energy Star: 2124 lignes,\n",
      "Test: 532 lignes.\n",
      "\n"
     ]
    }
   ],
   "source": [
    "print(\"Entrainement pour la consommation d'électrité avec Energy Star:  {} lignes,\\n Test: {} lignes.\\n\".format(X_site_ES_train.shape[0],\n",
    "                                                            X_site_ES_test.shape[0]))\n",
    "\n",
    "print(\"Entrainement pour les émissions de Co2 avec Energy Star: {} lignes,\\nTest: {} lignes.\\n\".format(X_Co2_ES_train.shape[0],\n",
    "                                                            X_Co2_ES_test.shape[0]))"
   ]
  },
  {
   "cell_type": "markdown",
   "id": "4db15370",
   "metadata": {},
   "source": [
    "### Dataset pour le choix de modèle"
   ]
  },
  {
   "cell_type": "code",
   "execution_count": 13,
   "id": "cdcc0a06",
   "metadata": {},
   "outputs": [],
   "source": [
    "model_data = data.drop(columns = \"ENERGYSTARScore\")"
   ]
  },
  {
   "cell_type": "markdown",
   "id": "044001e3",
   "metadata": {},
   "source": [
    "Les variables numériques et catégorielles doivent etre standardisées et encodées. Pour ce faire nous devons les identifier."
   ]
  },
  {
   "cell_type": "code",
   "execution_count": 14,
   "id": "e6792679",
   "metadata": {},
   "outputs": [],
   "source": [
    "model_data.dropna(how = 'any', inplace=True)"
   ]
  },
  {
   "cell_type": "code",
   "execution_count": 15,
   "id": "9a326ac3",
   "metadata": {},
   "outputs": [],
   "source": [
    "categorical = model_data.select_dtypes(exclude = \"number\").columns.tolist()\n",
    "\n",
    "numerical = model_data.select_dtypes(include = \"number\").columns.tolist()\n",
    "\n",
    "#Suppression des target \n",
    "numerical.remove(\"SiteEnergyUse(kBtu)Log\")\n",
    "numerical.remove(\"TotalGHGEmissionsLog\")"
   ]
  },
  {
   "cell_type": "markdown",
   "id": "27aeccdc",
   "metadata": {},
   "source": [
    "### Séparation en train et test set"
   ]
  },
  {
   "cell_type": "code",
   "execution_count": 16,
   "id": "d23e1166",
   "metadata": {},
   "outputs": [],
   "source": [
    "#Target consommation totale en énergie\n",
    "X_Site_log = model_data.drop(columns = [\"SiteEnergyUse(kBtu)Log\",\"TotalGHGEmissionsLog\"])\n",
    "y_Site_log = model_data[\"SiteEnergyUse(kBtu)Log\"]\n",
    "\n",
    "X_site_train, X_site_test, y_site_train, y_site_test = train_test_split(X_Site_log, y_Site_log, test_size=0.2, random_state=seed)\n",
    "\n",
    "#Target émissions de Co2\n",
    "X_Co2_log = model_data.drop(columns = [\"TotalGHGEmissionsLog\", \"SiteEnergyUse(kBtu)Log\"])\n",
    "y_Co2_log = model_data[\"TotalGHGEmissionsLog\"]\n",
    "\n",
    "X_Co2_train, X_Co2_test, y_Co2_train, y_Co2_test = train_test_split(X_Co2_log, y_Co2_log, test_size=0.2, random_state=seed)"
   ]
  },
  {
   "cell_type": "code",
   "execution_count": 17,
   "id": "31a55678",
   "metadata": {},
   "outputs": [
    {
     "data": {
      "text/html": [
       "<div>\n",
       "<style scoped>\n",
       "    .dataframe tbody tr th:only-of-type {\n",
       "        vertical-align: middle;\n",
       "    }\n",
       "\n",
       "    .dataframe tbody tr th {\n",
       "        vertical-align: top;\n",
       "    }\n",
       "\n",
       "    .dataframe thead th {\n",
       "        text-align: right;\n",
       "    }\n",
       "</style>\n",
       "<table border=\"1\" class=\"dataframe\">\n",
       "  <thead>\n",
       "    <tr style=\"text-align: right;\">\n",
       "      <th></th>\n",
       "      <th>BuildingType</th>\n",
       "      <th>PrimaryPropertyType</th>\n",
       "      <th>Neighborhood</th>\n",
       "      <th>LargestPropertyUseType</th>\n",
       "      <th>SecondLargestPropertyUseType</th>\n",
       "      <th>ThirdLargestPropertyUseType</th>\n",
       "      <th>BuildingAge</th>\n",
       "      <th>SteamUse(kBtu)</th>\n",
       "      <th>Electricity(kBtu)</th>\n",
       "      <th>NaturalGas(kBtu)</th>\n",
       "      <th>RateParking</th>\n",
       "      <th>RateBuilding</th>\n",
       "      <th>RatePerFloors</th>\n",
       "      <th>RatePerBuildings</th>\n",
       "      <th>RateLargestPropertyUseType</th>\n",
       "      <th>RateSecondLargestPropertyUseType</th>\n",
       "      <th>RateThirdLargestPropertyUseType</th>\n",
       "      <th>NumberOfAllUseTypes</th>\n",
       "      <th>haversine_distance</th>\n",
       "    </tr>\n",
       "  </thead>\n",
       "  <tbody>\n",
       "    <tr>\n",
       "      <th>2426</th>\n",
       "      <td>Multifamily LR (1-4)</td>\n",
       "      <td>Residential</td>\n",
       "      <td>NORTHEAST</td>\n",
       "      <td>Residential</td>\n",
       "      <td>no use</td>\n",
       "      <td>no use</td>\n",
       "      <td>56</td>\n",
       "      <td>0.0</td>\n",
       "      <td>1.0</td>\n",
       "      <td>0.0</td>\n",
       "      <td>0.0000</td>\n",
       "      <td>1.0000</td>\n",
       "      <td>5221.0000</td>\n",
       "      <td>20884.0</td>\n",
       "      <td>1.1825</td>\n",
       "      <td>0.0000</td>\n",
       "      <td>0.0000</td>\n",
       "      <td>1</td>\n",
       "      <td>7.319942</td>\n",
       "    </tr>\n",
       "    <tr>\n",
       "      <th>572</th>\n",
       "      <td>NonResidential</td>\n",
       "      <td>Office</td>\n",
       "      <td>MAGNOLIA / QUEEN ANNE</td>\n",
       "      <td>Office</td>\n",
       "      <td>Parking</td>\n",
       "      <td>Industrial</td>\n",
       "      <td>16</td>\n",
       "      <td>0.0</td>\n",
       "      <td>1.0</td>\n",
       "      <td>0.0</td>\n",
       "      <td>0.3281</td>\n",
       "      <td>0.6719</td>\n",
       "      <td>32387.7500</td>\n",
       "      <td>129551.0</td>\n",
       "      <td>0.6289</td>\n",
       "      <td>0.3281</td>\n",
       "      <td>0.0369</td>\n",
       "      <td>3</td>\n",
       "      <td>2.983238</td>\n",
       "    </tr>\n",
       "    <tr>\n",
       "      <th>1876</th>\n",
       "      <td>Multifamily MR (5-9)</td>\n",
       "      <td>Residential</td>\n",
       "      <td>EAST</td>\n",
       "      <td>Residential</td>\n",
       "      <td>no use</td>\n",
       "      <td>no use</td>\n",
       "      <td>50</td>\n",
       "      <td>0.0</td>\n",
       "      <td>1.0</td>\n",
       "      <td>0.0</td>\n",
       "      <td>0.0000</td>\n",
       "      <td>1.0000</td>\n",
       "      <td>4041.5714</td>\n",
       "      <td>28291.0</td>\n",
       "      <td>1.0000</td>\n",
       "      <td>0.0000</td>\n",
       "      <td>0.0000</td>\n",
       "      <td>1</td>\n",
       "      <td>1.721331</td>\n",
       "    </tr>\n",
       "    <tr>\n",
       "      <th>964</th>\n",
       "      <td>Multifamily MR (5-9)</td>\n",
       "      <td>Residential</td>\n",
       "      <td>EAST</td>\n",
       "      <td>Residential</td>\n",
       "      <td>Parking</td>\n",
       "      <td>Hotel_and_catering</td>\n",
       "      <td>9</td>\n",
       "      <td>0.0</td>\n",
       "      <td>1.0</td>\n",
       "      <td>1.0</td>\n",
       "      <td>0.0000</td>\n",
       "      <td>1.0000</td>\n",
       "      <td>24302.0000</td>\n",
       "      <td>145812.0</td>\n",
       "      <td>0.8041</td>\n",
       "      <td>0.1612</td>\n",
       "      <td>0.0332</td>\n",
       "      <td>5</td>\n",
       "      <td>2.147297</td>\n",
       "    </tr>\n",
       "    <tr>\n",
       "      <th>1659</th>\n",
       "      <td>Multifamily LR (1-4)</td>\n",
       "      <td>Residential</td>\n",
       "      <td>NORTHWEST</td>\n",
       "      <td>Residential</td>\n",
       "      <td>no use</td>\n",
       "      <td>no use</td>\n",
       "      <td>21</td>\n",
       "      <td>0.0</td>\n",
       "      <td>1.0</td>\n",
       "      <td>0.0</td>\n",
       "      <td>0.0000</td>\n",
       "      <td>1.0000</td>\n",
       "      <td>8680.0000</td>\n",
       "      <td>26040.0</td>\n",
       "      <td>1.0000</td>\n",
       "      <td>0.0000</td>\n",
       "      <td>0.0000</td>\n",
       "      <td>1</td>\n",
       "      <td>13.645473</td>\n",
       "    </tr>\n",
       "    <tr>\n",
       "      <th>...</th>\n",
       "      <td>...</td>\n",
       "      <td>...</td>\n",
       "      <td>...</td>\n",
       "      <td>...</td>\n",
       "      <td>...</td>\n",
       "      <td>...</td>\n",
       "      <td>...</td>\n",
       "      <td>...</td>\n",
       "      <td>...</td>\n",
       "      <td>...</td>\n",
       "      <td>...</td>\n",
       "      <td>...</td>\n",
       "      <td>...</td>\n",
       "      <td>...</td>\n",
       "      <td>...</td>\n",
       "      <td>...</td>\n",
       "      <td>...</td>\n",
       "      <td>...</td>\n",
       "      <td>...</td>\n",
       "    </tr>\n",
       "    <tr>\n",
       "      <th>1095</th>\n",
       "      <td>NonResidential</td>\n",
       "      <td>Industrial</td>\n",
       "      <td>GREATER DUWAMISH</td>\n",
       "      <td>Industrial</td>\n",
       "      <td>no use</td>\n",
       "      <td>no use</td>\n",
       "      <td>61</td>\n",
       "      <td>0.0</td>\n",
       "      <td>1.0</td>\n",
       "      <td>0.0</td>\n",
       "      <td>0.0000</td>\n",
       "      <td>1.0000</td>\n",
       "      <td>26680.0000</td>\n",
       "      <td>26680.0</td>\n",
       "      <td>1.2739</td>\n",
       "      <td>0.0000</td>\n",
       "      <td>0.0000</td>\n",
       "      <td>1</td>\n",
       "      <td>4.641714</td>\n",
       "    </tr>\n",
       "    <tr>\n",
       "      <th>1130</th>\n",
       "      <td>Multifamily LR (1-4)</td>\n",
       "      <td>Office</td>\n",
       "      <td>MAGNOLIA / QUEEN ANNE</td>\n",
       "      <td>Office</td>\n",
       "      <td>no use</td>\n",
       "      <td>no use</td>\n",
       "      <td>99</td>\n",
       "      <td>0.0</td>\n",
       "      <td>1.0</td>\n",
       "      <td>1.0</td>\n",
       "      <td>0.0000</td>\n",
       "      <td>1.0000</td>\n",
       "      <td>7136.5000</td>\n",
       "      <td>28546.0</td>\n",
       "      <td>1.0000</td>\n",
       "      <td>0.0000</td>\n",
       "      <td>0.0000</td>\n",
       "      <td>1</td>\n",
       "      <td>3.817848</td>\n",
       "    </tr>\n",
       "    <tr>\n",
       "      <th>1294</th>\n",
       "      <td>Multifamily LR (1-4)</td>\n",
       "      <td>Residential</td>\n",
       "      <td>EAST</td>\n",
       "      <td>Residential</td>\n",
       "      <td>Parking</td>\n",
       "      <td>no use</td>\n",
       "      <td>91</td>\n",
       "      <td>0.0</td>\n",
       "      <td>1.0</td>\n",
       "      <td>1.0</td>\n",
       "      <td>0.0629</td>\n",
       "      <td>0.9371</td>\n",
       "      <td>15920.2500</td>\n",
       "      <td>63681.0</td>\n",
       "      <td>0.8742</td>\n",
       "      <td>0.1258</td>\n",
       "      <td>0.0000</td>\n",
       "      <td>2</td>\n",
       "      <td>0.778397</td>\n",
       "    </tr>\n",
       "    <tr>\n",
       "      <th>860</th>\n",
       "      <td>NonResidential</td>\n",
       "      <td>Office</td>\n",
       "      <td>DOWNTOWN</td>\n",
       "      <td>Office</td>\n",
       "      <td>Parking</td>\n",
       "      <td>no use</td>\n",
       "      <td>91</td>\n",
       "      <td>1.0</td>\n",
       "      <td>1.0</td>\n",
       "      <td>1.0</td>\n",
       "      <td>0.3098</td>\n",
       "      <td>0.6902</td>\n",
       "      <td>22049.0000</td>\n",
       "      <td>44098.0</td>\n",
       "      <td>0.7134</td>\n",
       "      <td>0.2909</td>\n",
       "      <td>0.0000</td>\n",
       "      <td>2</td>\n",
       "      <td>0.869761</td>\n",
       "    </tr>\n",
       "    <tr>\n",
       "      <th>3174</th>\n",
       "      <td>NonResidential</td>\n",
       "      <td>Commercial</td>\n",
       "      <td>EAST</td>\n",
       "      <td>Commercial</td>\n",
       "      <td>no use</td>\n",
       "      <td>no use</td>\n",
       "      <td>20</td>\n",
       "      <td>0.0</td>\n",
       "      <td>1.0</td>\n",
       "      <td>1.0</td>\n",
       "      <td>0.0000</td>\n",
       "      <td>1.0000</td>\n",
       "      <td>15247.6667</td>\n",
       "      <td>45743.0</td>\n",
       "      <td>0.9891</td>\n",
       "      <td>0.0000</td>\n",
       "      <td>0.0000</td>\n",
       "      <td>1</td>\n",
       "      <td>1.157693</td>\n",
       "    </tr>\n",
       "  </tbody>\n",
       "</table>\n",
       "<p>2742 rows × 19 columns</p>\n",
       "</div>"
      ],
      "text/plain": [
       "              BuildingType PrimaryPropertyType           Neighborhood  \\\n",
       "2426  Multifamily LR (1-4)         Residential              NORTHEAST   \n",
       "572         NonResidential              Office  MAGNOLIA / QUEEN ANNE   \n",
       "1876  Multifamily MR (5-9)         Residential                   EAST   \n",
       "964   Multifamily MR (5-9)         Residential                   EAST   \n",
       "1659  Multifamily LR (1-4)         Residential              NORTHWEST   \n",
       "...                    ...                 ...                    ...   \n",
       "1095        NonResidential          Industrial       GREATER DUWAMISH   \n",
       "1130  Multifamily LR (1-4)              Office  MAGNOLIA / QUEEN ANNE   \n",
       "1294  Multifamily LR (1-4)         Residential                   EAST   \n",
       "860         NonResidential              Office               DOWNTOWN   \n",
       "3174        NonResidential          Commercial                   EAST   \n",
       "\n",
       "     LargestPropertyUseType SecondLargestPropertyUseType  \\\n",
       "2426            Residential                       no use   \n",
       "572                  Office                      Parking   \n",
       "1876            Residential                       no use   \n",
       "964             Residential                      Parking   \n",
       "1659            Residential                       no use   \n",
       "...                     ...                          ...   \n",
       "1095             Industrial                       no use   \n",
       "1130                 Office                       no use   \n",
       "1294            Residential                      Parking   \n",
       "860                  Office                      Parking   \n",
       "3174             Commercial                       no use   \n",
       "\n",
       "     ThirdLargestPropertyUseType  BuildingAge  SteamUse(kBtu)  \\\n",
       "2426                      no use           56             0.0   \n",
       "572                   Industrial           16             0.0   \n",
       "1876                      no use           50             0.0   \n",
       "964           Hotel_and_catering            9             0.0   \n",
       "1659                      no use           21             0.0   \n",
       "...                          ...          ...             ...   \n",
       "1095                      no use           61             0.0   \n",
       "1130                      no use           99             0.0   \n",
       "1294                      no use           91             0.0   \n",
       "860                       no use           91             1.0   \n",
       "3174                      no use           20             0.0   \n",
       "\n",
       "      Electricity(kBtu)  NaturalGas(kBtu)  RateParking  RateBuilding  \\\n",
       "2426                1.0               0.0       0.0000        1.0000   \n",
       "572                 1.0               0.0       0.3281        0.6719   \n",
       "1876                1.0               0.0       0.0000        1.0000   \n",
       "964                 1.0               1.0       0.0000        1.0000   \n",
       "1659                1.0               0.0       0.0000        1.0000   \n",
       "...                 ...               ...          ...           ...   \n",
       "1095                1.0               0.0       0.0000        1.0000   \n",
       "1130                1.0               1.0       0.0000        1.0000   \n",
       "1294                1.0               1.0       0.0629        0.9371   \n",
       "860                 1.0               1.0       0.3098        0.6902   \n",
       "3174                1.0               1.0       0.0000        1.0000   \n",
       "\n",
       "      RatePerFloors  RatePerBuildings  RateLargestPropertyUseType  \\\n",
       "2426      5221.0000           20884.0                      1.1825   \n",
       "572      32387.7500          129551.0                      0.6289   \n",
       "1876      4041.5714           28291.0                      1.0000   \n",
       "964      24302.0000          145812.0                      0.8041   \n",
       "1659      8680.0000           26040.0                      1.0000   \n",
       "...             ...               ...                         ...   \n",
       "1095     26680.0000           26680.0                      1.2739   \n",
       "1130      7136.5000           28546.0                      1.0000   \n",
       "1294     15920.2500           63681.0                      0.8742   \n",
       "860      22049.0000           44098.0                      0.7134   \n",
       "3174     15247.6667           45743.0                      0.9891   \n",
       "\n",
       "      RateSecondLargestPropertyUseType  RateThirdLargestPropertyUseType  \\\n",
       "2426                            0.0000                           0.0000   \n",
       "572                             0.3281                           0.0369   \n",
       "1876                            0.0000                           0.0000   \n",
       "964                             0.1612                           0.0332   \n",
       "1659                            0.0000                           0.0000   \n",
       "...                                ...                              ...   \n",
       "1095                            0.0000                           0.0000   \n",
       "1130                            0.0000                           0.0000   \n",
       "1294                            0.1258                           0.0000   \n",
       "860                             0.2909                           0.0000   \n",
       "3174                            0.0000                           0.0000   \n",
       "\n",
       "      NumberOfAllUseTypes  haversine_distance  \n",
       "2426                    1            7.319942  \n",
       "572                     3            2.983238  \n",
       "1876                    1            1.721331  \n",
       "964                     5            2.147297  \n",
       "1659                    1           13.645473  \n",
       "...                   ...                 ...  \n",
       "1095                    1            4.641714  \n",
       "1130                    1            3.817848  \n",
       "1294                    2            0.778397  \n",
       "860                     2            0.869761  \n",
       "3174                    1            1.157693  \n",
       "\n",
       "[2742 rows x 19 columns]"
      ]
     },
     "execution_count": 17,
     "metadata": {},
     "output_type": "execute_result"
    }
   ],
   "source": [
    "X_Co2_train"
   ]
  },
  {
   "cell_type": "code",
   "execution_count": 18,
   "id": "4f5183c6",
   "metadata": {},
   "outputs": [
    {
     "name": "stdout",
     "output_type": "stream",
     "text": [
      "Entrainement pour consommation d'électrité:  2742 lignes,\n",
      " Test: 686 lignes.\n",
      "\n",
      "Entrainement pour les émissions de Co2: 2742 lignes,\n",
      "Test: 686 lignes.\n",
      "\n"
     ]
    }
   ],
   "source": [
    "print(\"Entrainement pour consommation d'électrité:  {} lignes,\\n Test: {} lignes.\\n\".format(X_site_train.shape[0],\n",
    "                                                            X_site_test.shape[0]))\n",
    "\n",
    "print(\"Entrainement pour les émissions de Co2: {} lignes,\\nTest: {} lignes.\\n\".format(X_Co2_train.shape[0],\n",
    "                                                            X_Co2_test.shape[0]))"
   ]
  },
  {
   "cell_type": "markdown",
   "id": "ce50e77b",
   "metadata": {},
   "source": [
    "### Standardisation et encodage pour données de tests et d'entrainements \n",
    "\n",
    "**Target Encoder** : Issu de la librairie Category_Encoders.Suit 2 principales étapes :\n",
    "   > 1. Groupe les données par chaque catégorie et compte de nombre d'occurrences de chaque cible.\n",
    "   > 2. Calcul de la probabilité que chaque cible se produise pour chaque groupe spécifique.\n",
    "   \n",
    "**Robust scaler** : Mise à l'échelle des données à l'aide de statistiques robustes aux valeurs aberrantes.\n",
    "   >   Ce Scaler supprime la médiane et met à l'échelle les données en fonction de l'écart Interquartile). L'IQR est l'écart entre le 1er quartile (25e quantile) et le 3e quartile (75e quantile)."
   ]
  },
  {
   "cell_type": "code",
   "execution_count": 19,
   "id": "32a4bd48",
   "metadata": {},
   "outputs": [],
   "source": [
    "from category_encoders import TargetEncoder\n",
    "from sklearn.preprocessing import RobustScaler\n",
    "\n",
    "encoder = TargetEncoder()\n",
    "scaler = RobustScaler()"
   ]
  },
  {
   "cell_type": "markdown",
   "id": "eb90cd88",
   "metadata": {},
   "source": [
    "#### Encodage"
   ]
  },
  {
   "cell_type": "code",
   "execution_count": 20,
   "id": "78cc1083",
   "metadata": {},
   "outputs": [],
   "source": [
    "X_site_train[categorical]= encoder.fit_transform(X_site_train[categorical], y_site_train)\n",
    "X_site_test[categorical]= encoder.fit_transform(X_site_test[categorical], y_site_test)\n",
    "\n",
    "\n",
    "X_Co2_train[categorical]=encoder.fit_transform(X_Co2_train[categorical], y_Co2_train)\n",
    "X_Co2_test[categorical]=encoder.fit_transform(X_Co2_test[categorical], y_Co2_test)"
   ]
  },
  {
   "cell_type": "markdown",
   "id": "57b18cfd",
   "metadata": {},
   "source": [
    "#### Standardisation"
   ]
  },
  {
   "cell_type": "code",
   "execution_count": 21,
   "id": "9f9e7dd3",
   "metadata": {},
   "outputs": [],
   "source": [
    "X_site_train[numerical]= scaler.fit_transform(X_site_train[numerical])\n",
    "X_site_test[numerical]= scaler.fit_transform(X_site_test[numerical])\n",
    "\n",
    "\n",
    "X_Co2_train[numerical]=scaler.fit_transform(X_Co2_train[numerical])\n",
    "X_Co2_test[numerical]=scaler.fit_transform(X_Co2_test[numerical])"
   ]
  },
  {
   "cell_type": "markdown",
   "id": "28e0531e",
   "metadata": {},
   "source": [
    "# Choix de la métrique utilisé\n",
    " - **MAE** l'importance de l'erreur sera linéaire avec son amplitude. Préférable avec les outliers. \n",
    " - **R²** évalue la performance du modèle par rapport au niveau de variation présent dans les données. \n",
    "     > plus R² est proche de 1 mieux c'est.\n",
    " - La **RMSE**, c'est la racine de l'erreur quadratique moyenne, de ce fait elle pénalise beaucoup les grandes erreurs. Etant donné l'objectif de prédictions afin de se passer des relevés de terrain. Il nous faudra éviter les grandes erreurs. \n",
    " \n",
    " $$ \\sqrt{1/n\\sum_{i=1}^n(f(x_i)-y_i)^2}$$\n",
    "\n",
    "On comparera nos modèles avec la **RMSE**.\n",
    " \n",
    " # Choix des modèles utilisés \n",
    " \n",
    " - linéaire : **ElasticNet**\n",
    "  >Méthode de régression régularisée qui combine linéairement les pénalités L1 et L2 des méthodes Lasso et Ridge. La régularisation consiste à contrôler simultanément l'erreur du modèle sur le jeu d'entraînement et la complexité du modèle.  \n",
    "  La méthode du Elastic Net surmonte les limites de Lasso qui utilise une fonction de pénalité (L1) qui permet d'avoir un modèle parcimonieux (avec beaucoup de coefficients nuls) mais instable. D'autre, Lasso n'a pas de solution explicite ni nécessairement unique. Pour surmonter ces limitations, l'Elastic Net ajoute la régularisation de Tikhonov connue aussi comme Régression Ridge (L2) qui permet d'éviter le sur-apprentissage avec une solution unique.  \n",
    "Elastic Net combine les normes L1 et L2 pour obtenir une solution moins parcimonieuse que Lasso mais plus stable et dans laquelle toutes les variables corrélées pertinentes pour la prédiction de l'étiquette sont sélectionnées et reçoivent un poids identique.\n",
    " - ensembliste :  \n",
    " \n",
    "      1.  **RandomForest**\n",
    "           > technique capable d'effectuer à la fois des tâches de régression et de classification à l'aide de plusieurs arbres de décision et de la technique Bootstrap Agreggation (bagging : entraîner chaque arbre de décision sur un jeu de données différent où l'échantillonnage est effectué avec remplacement).  L'idée derrière cette méthode est de combiner plusieurs arbres de décision pour déterminer le résultat final plutôt que de s'appuyer sur des arbres de décision individuels.\n",
    "      2.  **LightGBM**\n",
    "             > algorithme basé sur les arbres de décisions avec la particularité de développer l'arbre verticalement. Donc feuilles par feuilles au lieu de niveau par niveau. Il a pour avantage de converger plus rapidement. \n",
    "    \n",
    "  \n",
    " - non-linéaire : **SVR** qui viens de la méthode **SVM**\n",
    "  >  technique d'apprentissage automatique qui peut être utilisée à la fois pour des problèmes de régression et de classification. Il construit un hyperplan dans un espace multidimensionnel pour séparer un jeu de données en différentes classes de la meilleure façon possible ; donc, l'hyperplan c'est un plan de décision qui sépare et classe un ensemble de données.  \n",
    "  Les problèmes de régression impliquent la tâche d'approximer une fonction de mappage de variables d'entrée à une variable de sortie continue. L'approche consistant à utiliser les SVM pour résoudre les problèmes de régression est appelée Support Vector Regression (SVR).  \n",
    "  Le SVM reconnaît l'hyperplan optimal en calculant la distance entre le plan et les vecteurs de support (les points de données les plus proches de l'hyperplan), appelée la Marge (Margin). L'hyperplan optimal est le plan qui a la distance maximale des points de données les plus proches de chaque côté.\n",
    " \n",
    " ## Modèles pour la consommation totale d'énergie \n",
    " \n",
    " ### Baseline "
   ]
  },
  {
   "cell_type": "code",
   "execution_count": 22,
   "id": "42994e77",
   "metadata": {},
   "outputs": [],
   "source": [
    "def timeit(f):\n",
    "\n",
    "    def timed(*args, **kw):\n",
    "\n",
    "        ts = time.time()\n",
    "        result = f(*args, **kw)\n",
    "        te = time.time()\n",
    "\n",
    "        print (f\"Durée d'exécution de {f.__name__}: {te-ts}s\")\n",
    "        return result\n",
    "\n",
    "    return timed"
   ]
  },
  {
   "cell_type": "code",
   "execution_count": 23,
   "id": "48353a0e",
   "metadata": {},
   "outputs": [],
   "source": [
    "@timeit\n",
    "def regression(model,name,X,y):\n",
    "    metrics = ['neg_mean_absolute_error', 'neg_mean_squared_error', 'r2']\n",
    "    score = cross_validate(model,X,y,cv=10, scoring = metrics, return_train_score = True)\n",
    "    \n",
    "    dico = {\n",
    "        'modèle ': [name],\n",
    "        'Fit time': [score['fit_time'].mean()],\n",
    "        'Durée': [score['score_time'].mean()],\n",
    "        'Test R2': [score['test_r2'].mean()],\n",
    "        'Train R2': [score['train_r2'].mean()],\n",
    "        'Test RMSE': [np.sqrt(- (score['train_neg_mean_squared_error'].mean()))],\n",
    "        'Test MAE': [- (score['train_neg_mean_absolute_error'].mean())],\n",
    "        'Train RMSE': [np.sqrt(- (score['train_neg_mean_squared_error'].mean()))],\n",
    "        'Train MAE': [- (score['train_neg_mean_absolute_error'].mean())]\n",
    "         }\n",
    "    df_dico = pd.DataFrame(dico)\n",
    "    return df_dico\n"
   ]
  },
  {
   "cell_type": "code",
   "execution_count": 24,
   "id": "30f7bc2c",
   "metadata": {},
   "outputs": [],
   "source": [
    "@timeit\n",
    "def compare_resultat(X_train,y_train):\n",
    "    resultats = pd.DataFrame()\n",
    "    model =[]\n",
    "    \n",
    "    model.append(('linear_regression', linear_model.LinearRegression()))\n",
    "    model.append(('elastic net', linear_model.ElasticNet(random_state=seed)))\n",
    "    model.append(('random_forest', RandomForestRegressor(random_state=seed)))\n",
    "    model.append(('svr', SVR()))\n",
    "    model.append(('LGBM', lgb.LGBMRegressor()))\n",
    "       \n",
    "    for name, mod in model: \n",
    "        res = regression(mod, name, X_train, y_train)\n",
    "        resultats = pd.concat([resultats,res], ignore_index=True)\n",
    "    return resultats.style.hide_index()"
   ]
  },
  {
   "cell_type": "code",
   "execution_count": 25,
   "id": "5edb2ec2",
   "metadata": {},
   "outputs": [
    {
     "name": "stdout",
     "output_type": "stream",
     "text": [
      "Durée d'exécution de regression: 0.11809587478637695s\n",
      "Durée d'exécution de regression: 0.0648806095123291s\n",
      "Durée d'exécution de regression: 15.842841148376465s\n",
      "Durée d'exécution de regression: 8.072002172470093s\n",
      "Durée d'exécution de regression: 1.805999994277954s\n",
      "Durée d'exécution de compare_resultat: 27.3748197555542s\n"
     ]
    },
    {
     "data": {
      "text/html": [
       "<style type=\"text/css\">\n",
       "</style>\n",
       "<table id=\"T_949e4\">\n",
       "  <thead>\n",
       "    <tr>\n",
       "      <th id=\"T_949e4_level0_col0\" class=\"col_heading level0 col0\" >modèle </th>\n",
       "      <th id=\"T_949e4_level0_col1\" class=\"col_heading level0 col1\" >Fit time</th>\n",
       "      <th id=\"T_949e4_level0_col2\" class=\"col_heading level0 col2\" >Durée</th>\n",
       "      <th id=\"T_949e4_level0_col3\" class=\"col_heading level0 col3\" >Test R2</th>\n",
       "      <th id=\"T_949e4_level0_col4\" class=\"col_heading level0 col4\" >Train R2</th>\n",
       "      <th id=\"T_949e4_level0_col5\" class=\"col_heading level0 col5\" >Test RMSE</th>\n",
       "      <th id=\"T_949e4_level0_col6\" class=\"col_heading level0 col6\" >Test MAE</th>\n",
       "      <th id=\"T_949e4_level0_col7\" class=\"col_heading level0 col7\" >Train RMSE</th>\n",
       "      <th id=\"T_949e4_level0_col8\" class=\"col_heading level0 col8\" >Train MAE</th>\n",
       "    </tr>\n",
       "  </thead>\n",
       "  <tbody>\n",
       "    <tr>\n",
       "      <td id=\"T_949e4_row0_col0\" class=\"data row0 col0\" >linear_regression</td>\n",
       "      <td id=\"T_949e4_row0_col1\" class=\"data row0 col1\" >0.007210</td>\n",
       "      <td id=\"T_949e4_row0_col2\" class=\"data row0 col2\" >0.001999</td>\n",
       "      <td id=\"T_949e4_row0_col3\" class=\"data row0 col3\" >-420.606759</td>\n",
       "      <td id=\"T_949e4_row0_col4\" class=\"data row0 col4\" >0.597240</td>\n",
       "      <td id=\"T_949e4_row0_col5\" class=\"data row0 col5\" >0.328860</td>\n",
       "      <td id=\"T_949e4_row0_col6\" class=\"data row0 col6\" >0.229990</td>\n",
       "      <td id=\"T_949e4_row0_col7\" class=\"data row0 col7\" >0.328860</td>\n",
       "      <td id=\"T_949e4_row0_col8\" class=\"data row0 col8\" >0.229990</td>\n",
       "    </tr>\n",
       "    <tr>\n",
       "      <td id=\"T_949e4_row1_col0\" class=\"data row1 col0\" >elastic net</td>\n",
       "      <td id=\"T_949e4_row1_col1\" class=\"data row1 col1\" >0.003063</td>\n",
       "      <td id=\"T_949e4_row1_col2\" class=\"data row1 col2\" >0.000963</td>\n",
       "      <td id=\"T_949e4_row1_col3\" class=\"data row1 col3\" >0.176142</td>\n",
       "      <td id=\"T_949e4_row1_col4\" class=\"data row1 col4\" >0.179217</td>\n",
       "      <td id=\"T_949e4_row1_col5\" class=\"data row1 col5\" >0.469387</td>\n",
       "      <td id=\"T_949e4_row1_col6\" class=\"data row1 col6\" >0.355907</td>\n",
       "      <td id=\"T_949e4_row1_col7\" class=\"data row1 col7\" >0.469387</td>\n",
       "      <td id=\"T_949e4_row1_col8\" class=\"data row1 col8\" >0.355907</td>\n",
       "    </tr>\n",
       "    <tr>\n",
       "      <td id=\"T_949e4_row2_col0\" class=\"data row2 col0\" >random_forest</td>\n",
       "      <td id=\"T_949e4_row2_col1\" class=\"data row2 col1\" >1.506012</td>\n",
       "      <td id=\"T_949e4_row2_col2\" class=\"data row2 col2\" >0.016934</td>\n",
       "      <td id=\"T_949e4_row2_col3\" class=\"data row2 col3\" >0.710699</td>\n",
       "      <td id=\"T_949e4_row2_col4\" class=\"data row2 col4\" >0.959264</td>\n",
       "      <td id=\"T_949e4_row2_col5\" class=\"data row2 col5\" >0.104600</td>\n",
       "      <td id=\"T_949e4_row2_col6\" class=\"data row2 col6\" >0.065873</td>\n",
       "      <td id=\"T_949e4_row2_col7\" class=\"data row2 col7\" >0.104600</td>\n",
       "      <td id=\"T_949e4_row2_col8\" class=\"data row2 col8\" >0.065873</td>\n",
       "    </tr>\n",
       "    <tr>\n",
       "      <td id=\"T_949e4_row3_col0\" class=\"data row3 col0\" >svr</td>\n",
       "      <td id=\"T_949e4_row3_col1\" class=\"data row3 col1\" >0.292898</td>\n",
       "      <td id=\"T_949e4_row3_col2\" class=\"data row3 col2\" >0.052898</td>\n",
       "      <td id=\"T_949e4_row3_col3\" class=\"data row3 col3\" >0.693135</td>\n",
       "      <td id=\"T_949e4_row3_col4\" class=\"data row3 col4\" >0.703819</td>\n",
       "      <td id=\"T_949e4_row3_col5\" class=\"data row3 col5\" >0.282038</td>\n",
       "      <td id=\"T_949e4_row3_col6\" class=\"data row3 col6\" >0.180587</td>\n",
       "      <td id=\"T_949e4_row3_col7\" class=\"data row3 col7\" >0.282038</td>\n",
       "      <td id=\"T_949e4_row3_col8\" class=\"data row3 col8\" >0.180587</td>\n",
       "    </tr>\n",
       "    <tr>\n",
       "      <td id=\"T_949e4_row4_col0\" class=\"data row4 col0\" >LGBM</td>\n",
       "      <td id=\"T_949e4_row4_col1\" class=\"data row4 col1\" >0.160699</td>\n",
       "      <td id=\"T_949e4_row4_col2\" class=\"data row4 col2\" >0.004701</td>\n",
       "      <td id=\"T_949e4_row4_col3\" class=\"data row4 col3\" >0.717474</td>\n",
       "      <td id=\"T_949e4_row4_col4\" class=\"data row4 col4\" >0.901308</td>\n",
       "      <td id=\"T_949e4_row4_col5\" class=\"data row4 col5\" >0.162855</td>\n",
       "      <td id=\"T_949e4_row4_col6\" class=\"data row4 col6\" >0.104371</td>\n",
       "      <td id=\"T_949e4_row4_col7\" class=\"data row4 col7\" >0.162855</td>\n",
       "      <td id=\"T_949e4_row4_col8\" class=\"data row4 col8\" >0.104371</td>\n",
       "    </tr>\n",
       "  </tbody>\n",
       "</table>\n"
      ],
      "text/plain": [
       "<pandas.io.formats.style.Styler at 0x15cbe70f490>"
      ]
     },
     "execution_count": 25,
     "metadata": {},
     "output_type": "execute_result"
    }
   ],
   "source": [
    "baseline_SEU = compare_resultat(X_site_train, y_site_train)\n",
    "baseline_SEU"
   ]
  },
  {
   "cell_type": "markdown",
   "id": "588c9f78",
   "metadata": {},
   "source": [
    "**Nous nous servirons par la suite uniquement de la métrique RMSE pour nos analyses et pour le choix de modèles.**  \n",
    "\n",
    "A ce stade, l'estimateur Random forest obtiens les meilleurs scores, mais est plus gourmand en temps.  \n",
    "L'estimateur qui à un bon conpromis temps/score est le LGBM. "
   ]
  },
  {
   "cell_type": "markdown",
   "id": "dbf14f60",
   "metadata": {},
   "source": [
    "### Tunning de paramètres "
   ]
  },
  {
   "cell_type": "code",
   "execution_count": 26,
   "id": "c572d3b4",
   "metadata": {},
   "outputs": [],
   "source": [
    "@timeit\n",
    "def gridCV(model, parameters,X_train,y_train, cv):\n",
    "    model_grid= GridSearchCV(estimator = model,\n",
    "                        param_grid = parameters,\n",
    "                        scoring='neg_root_mean_squared_error',\n",
    "                        cv=cv,\n",
    "                        return_train_score = True\n",
    "                          )\n",
    "    model_grid.fit(X_train,y_train)\n",
    "    return model_grid\n",
    "\n",
    "\n",
    "@timeit\n",
    "def resultats_grid(model_grid, name,X_train, y_train):\n",
    "    #Récupération des paramètres de la grille. \n",
    "    cv_grid = pd.DataFrame(model_grid.cv_results_)\n",
    "    \n",
    "    y_pred = model_grid.predict(X_train)\n",
    "    rmse= np.sqrt(sklearn.metrics.mean_squared_error(y_train, y_pred))\n",
    "    #creation d'un dataframe des résultats\n",
    "    results = {\n",
    "        'modèle': [name],\n",
    "        'Fit time': [cv_grid['mean_fit_time'].mean()],\n",
    "        'Score time': [cv_grid['mean_score_time'].mean()],\n",
    "        #'Best score RMSE': [-(model_grid.best_score_)],\n",
    "        'Mean train score RMSE': [-(cv_grid[\"mean_train_score\"].mean())],\n",
    "        'Mean test score RMSE' : [-(cv_grid[\"mean_test_score\"].mean())],\n",
    "        'Best estimator': [model_grid.best_params_],\n",
    "        'RMSE best estimator':[rmse]\n",
    "         }\n",
    "    df_resultats = pd.DataFrame(results)\n",
    "\n",
    "    return df_resultats"
   ]
  },
  {
   "cell_type": "markdown",
   "id": "2974132d",
   "metadata": {},
   "source": [
    "#### Elastic Net"
   ]
  },
  {
   "cell_type": "code",
   "execution_count": 27,
   "id": "31eb1624",
   "metadata": {},
   "outputs": [],
   "source": [
    "El_parameters ={\n",
    "    'alpha': np.arange(0.001,10, 0.1),\n",
    "    'l1_ratio' : np.arange(0.0, 1, 0.1)#L1 ratio =1 équivaut à un Lasso, 0 à un Ridge\n",
    "            }\n"
   ]
  },
  {
   "cell_type": "code",
   "execution_count": 28,
   "id": "fb62ddbc",
   "metadata": {},
   "outputs": [
    {
     "name": "stdout",
     "output_type": "stream",
     "text": [
      "Durée d'exécution de gridCV: 56.96751952171326s\n"
     ]
    }
   ],
   "source": [
    "El_grid = gridCV(linear_model.ElasticNet(), El_parameters, X_site_train, y_site_train,5)"
   ]
  },
  {
   "cell_type": "code",
   "execution_count": 29,
   "id": "2a3b0d9a",
   "metadata": {},
   "outputs": [
    {
     "name": "stdout",
     "output_type": "stream",
     "text": [
      "Durée d'exécution de resultats_grid: 0.005997657775878906s\n"
     ]
    },
    {
     "data": {
      "text/html": [
       "<div>\n",
       "<style scoped>\n",
       "    .dataframe tbody tr th:only-of-type {\n",
       "        vertical-align: middle;\n",
       "    }\n",
       "\n",
       "    .dataframe tbody tr th {\n",
       "        vertical-align: top;\n",
       "    }\n",
       "\n",
       "    .dataframe thead th {\n",
       "        text-align: right;\n",
       "    }\n",
       "</style>\n",
       "<table border=\"1\" class=\"dataframe\">\n",
       "  <thead>\n",
       "    <tr style=\"text-align: right;\">\n",
       "      <th></th>\n",
       "      <th>modèle</th>\n",
       "      <th>Fit time</th>\n",
       "      <th>Score time</th>\n",
       "      <th>Mean train score RMSE</th>\n",
       "      <th>Mean test score RMSE</th>\n",
       "      <th>Best estimator</th>\n",
       "      <th>RMSE best estimator</th>\n",
       "    </tr>\n",
       "  </thead>\n",
       "  <tbody>\n",
       "    <tr>\n",
       "      <th>0</th>\n",
       "      <td>ElasticNet</td>\n",
       "      <td>0.007661</td>\n",
       "      <td>0.001625</td>\n",
       "      <td>0.491862</td>\n",
       "      <td>0.491983</td>\n",
       "      <td>{'alpha': 0.001, 'l1_ratio': 0.6000000000000001}</td>\n",
       "      <td>0.329847</td>\n",
       "    </tr>\n",
       "  </tbody>\n",
       "</table>\n",
       "</div>"
      ],
      "text/plain": [
       "       modèle  Fit time  Score time  Mean train score RMSE  \\\n",
       "0  ElasticNet  0.007661    0.001625               0.491862   \n",
       "\n",
       "   Mean test score RMSE                                    Best estimator  \\\n",
       "0              0.491983  {'alpha': 0.001, 'l1_ratio': 0.6000000000000001}   \n",
       "\n",
       "   RMSE best estimator  \n",
       "0             0.329847  "
      ]
     },
     "execution_count": 29,
     "metadata": {},
     "output_type": "execute_result"
    }
   ],
   "source": [
    "resultat_tunning = resultats_grid(El_grid, \"ElasticNet\",X_site_train, y_site_train)\n",
    "resultat_tunning"
   ]
  },
  {
   "cell_type": "markdown",
   "id": "004b4c5c",
   "metadata": {},
   "source": [
    "#### Random Forest "
   ]
  },
  {
   "cell_type": "code",
   "execution_count": 30,
   "id": "d0f8c9bd",
   "metadata": {},
   "outputs": [],
   "source": [
    "random_parameters = {\n",
    "             'max_features' : ['sqrt', 'log2', 'auto'],#nombre max de features prises en compte pour diviser un nœud\n",
    "             'max_depth': [5, 15, 25, 50],#nombre maximum de niveaux dans chaque arbre de décision \n",
    "             'min_samples_split': [2, 5, 10],#nombre minimum de points placés dans un nœud avant qu'il ne soit divisé \n",
    "             'bootstrap' : [True, False],#méthode d'échantillonnage (avec ou sans remplacement)\n",
    "             'min_samples_leaf': [1,2,5,10]#nombre minimal de points autorisés dans une feuille\n",
    "                     }\n"
   ]
  },
  {
   "cell_type": "code",
   "execution_count": 31,
   "id": "fba7cd22",
   "metadata": {},
   "outputs": [
    {
     "name": "stdout",
     "output_type": "stream",
     "text": [
      "Durée d'exécution de gridCV: 917.754763841629s\n"
     ]
    }
   ],
   "source": [
    "rf_grid = gridCV(RandomForestRegressor(), random_parameters,X_site_train, y_site_train,5)"
   ]
  },
  {
   "cell_type": "code",
   "execution_count": 33,
   "id": "8eeb0fa7",
   "metadata": {},
   "outputs": [
    {
     "name": "stdout",
     "output_type": "stream",
     "text": [
      "Durée d'exécution de resultats_grid: 0.05899477005004883s\n"
     ]
    }
   ],
   "source": [
    "rf_result = resultats_grid(rf_grid, \"RandomForest\",X_site_train, y_site_train)\n",
    "\n",
    "\n",
    "res_tunning = pd.concat([resultat_tunning,rf_result], ignore_index=True)"
   ]
  },
  {
   "cell_type": "code",
   "execution_count": 34,
   "id": "3931e340",
   "metadata": {},
   "outputs": [
    {
     "data": {
      "text/html": [
       "<div>\n",
       "<style scoped>\n",
       "    .dataframe tbody tr th:only-of-type {\n",
       "        vertical-align: middle;\n",
       "    }\n",
       "\n",
       "    .dataframe tbody tr th {\n",
       "        vertical-align: top;\n",
       "    }\n",
       "\n",
       "    .dataframe thead th {\n",
       "        text-align: right;\n",
       "    }\n",
       "</style>\n",
       "<table border=\"1\" class=\"dataframe\">\n",
       "  <thead>\n",
       "    <tr style=\"text-align: right;\">\n",
       "      <th></th>\n",
       "      <th>modèle</th>\n",
       "      <th>Fit time</th>\n",
       "      <th>Score time</th>\n",
       "      <th>Mean train score RMSE</th>\n",
       "      <th>Mean test score RMSE</th>\n",
       "      <th>Best estimator</th>\n",
       "      <th>RMSE best estimator</th>\n",
       "    </tr>\n",
       "  </thead>\n",
       "  <tbody>\n",
       "    <tr>\n",
       "      <th>0</th>\n",
       "      <td>ElasticNet</td>\n",
       "      <td>0.007661</td>\n",
       "      <td>0.001625</td>\n",
       "      <td>0.491862</td>\n",
       "      <td>0.491983</td>\n",
       "      <td>{'alpha': 0.001, 'l1_ratio': 0.6000000000000001}</td>\n",
       "      <td>0.329847</td>\n",
       "    </tr>\n",
       "    <tr>\n",
       "      <th>1</th>\n",
       "      <td>RandomForest</td>\n",
       "      <td>0.584846</td>\n",
       "      <td>0.016956</td>\n",
       "      <td>0.202753</td>\n",
       "      <td>0.294040</td>\n",
       "      <td>{'bootstrap': False, 'max_depth': 25, 'max_fea...</td>\n",
       "      <td>0.110829</td>\n",
       "    </tr>\n",
       "  </tbody>\n",
       "</table>\n",
       "</div>"
      ],
      "text/plain": [
       "         modèle  Fit time  Score time  Mean train score RMSE  \\\n",
       "0    ElasticNet  0.007661    0.001625               0.491862   \n",
       "1  RandomForest  0.584846    0.016956               0.202753   \n",
       "\n",
       "   Mean test score RMSE                                     Best estimator  \\\n",
       "0              0.491983   {'alpha': 0.001, 'l1_ratio': 0.6000000000000001}   \n",
       "1              0.294040  {'bootstrap': False, 'max_depth': 25, 'max_fea...   \n",
       "\n",
       "   RMSE best estimator  \n",
       "0             0.329847  \n",
       "1             0.110829  "
      ]
     },
     "execution_count": 34,
     "metadata": {},
     "output_type": "execute_result"
    }
   ],
   "source": [
    "res_tunning"
   ]
  },
  {
   "cell_type": "markdown",
   "id": "ca04e51e",
   "metadata": {},
   "source": [
    "#### SVR \n",
    "Les SVM (Support Vector Machines),  cherchent à séparer linéairement les données.\n",
    "C'est un algorithme d'apprentissage supervisé. \n",
    "SVR vise à réduire l'erreur en déterminant l'hyperplan et en minimisant la plage entre les valeurs prédites et observées."
   ]
  },
  {
   "cell_type": "code",
   "execution_count": 35,
   "id": "9705dd23",
   "metadata": {},
   "outputs": [],
   "source": [
    "svr_parameters = {\n",
    "                  'C' : np.logspace(-4, 0, 5),\n",
    "                  'epsilon' : [0, 0.01, 0.1, 0.5, 1, 2],\n",
    "                  'loss' : [\"epsilon_insensitive\",\"squared_epsilon_insensitive\"]\n",
    "                 }"
   ]
  },
  {
   "cell_type": "code",
   "execution_count": 37,
   "id": "d3f71771",
   "metadata": {},
   "outputs": [
    {
     "name": "stdout",
     "output_type": "stream",
     "text": [
      "Durée d'exécution de gridCV: 15.905487537384033s\n"
     ]
    }
   ],
   "source": [
    "svr = gridCV(LinearSVR(), svr_parameters,X_site_train, y_site_train,5 )"
   ]
  },
  {
   "cell_type": "code",
   "execution_count": 38,
   "id": "df4adea9",
   "metadata": {},
   "outputs": [
    {
     "name": "stdout",
     "output_type": "stream",
     "text": [
      "Durée d'exécution de resultats_grid: 0.005997419357299805s\n"
     ]
    }
   ],
   "source": [
    "svr_result = resultats_grid(svr, \"SVR\",X_site_train, y_site_train)\n",
    "\n",
    "\n",
    "res_tunning = pd.concat([res_tunning,svr_result], ignore_index=True)"
   ]
  },
  {
   "cell_type": "code",
   "execution_count": 39,
   "id": "456aaefa",
   "metadata": {},
   "outputs": [
    {
     "data": {
      "text/html": [
       "<style type=\"text/css\">\n",
       "</style>\n",
       "<table id=\"T_30c1f\">\n",
       "  <thead>\n",
       "    <tr>\n",
       "      <th id=\"T_30c1f_level0_col0\" class=\"col_heading level0 col0\" >modèle</th>\n",
       "      <th id=\"T_30c1f_level0_col1\" class=\"col_heading level0 col1\" >Fit time</th>\n",
       "      <th id=\"T_30c1f_level0_col2\" class=\"col_heading level0 col2\" >Score time</th>\n",
       "      <th id=\"T_30c1f_level0_col3\" class=\"col_heading level0 col3\" >Mean train score RMSE</th>\n",
       "      <th id=\"T_30c1f_level0_col4\" class=\"col_heading level0 col4\" >Mean test score RMSE</th>\n",
       "      <th id=\"T_30c1f_level0_col5\" class=\"col_heading level0 col5\" >Best estimator</th>\n",
       "      <th id=\"T_30c1f_level0_col6\" class=\"col_heading level0 col6\" >RMSE best estimator</th>\n",
       "    </tr>\n",
       "  </thead>\n",
       "  <tbody>\n",
       "    <tr>\n",
       "      <td id=\"T_30c1f_row0_col0\" class=\"data row0 col0\" >ElasticNet</td>\n",
       "      <td id=\"T_30c1f_row0_col1\" class=\"data row0 col1\" >0.007661</td>\n",
       "      <td id=\"T_30c1f_row0_col2\" class=\"data row0 col2\" >0.001625</td>\n",
       "      <td id=\"T_30c1f_row0_col3\" class=\"data row0 col3\" >0.491862</td>\n",
       "      <td id=\"T_30c1f_row0_col4\" class=\"data row0 col4\" >0.491983</td>\n",
       "      <td id=\"T_30c1f_row0_col5\" class=\"data row0 col5\" >{'alpha': 0.001, 'l1_ratio': 0.6000000000000001}</td>\n",
       "      <td id=\"T_30c1f_row0_col6\" class=\"data row0 col6\" >0.329847</td>\n",
       "    </tr>\n",
       "    <tr>\n",
       "      <td id=\"T_30c1f_row1_col0\" class=\"data row1 col0\" >RandomForest</td>\n",
       "      <td id=\"T_30c1f_row1_col1\" class=\"data row1 col1\" >0.584846</td>\n",
       "      <td id=\"T_30c1f_row1_col2\" class=\"data row1 col2\" >0.016956</td>\n",
       "      <td id=\"T_30c1f_row1_col3\" class=\"data row1 col3\" >0.202753</td>\n",
       "      <td id=\"T_30c1f_row1_col4\" class=\"data row1 col4\" >0.294040</td>\n",
       "      <td id=\"T_30c1f_row1_col5\" class=\"data row1 col5\" >{'bootstrap': False, 'max_depth': 25, 'max_features': 'log2', 'min_samples_leaf': 2, 'min_samples_split': 5}</td>\n",
       "      <td id=\"T_30c1f_row1_col6\" class=\"data row1 col6\" >0.110829</td>\n",
       "    </tr>\n",
       "    <tr>\n",
       "      <td id=\"T_30c1f_row2_col0\" class=\"data row2 col0\" >SVR</td>\n",
       "      <td id=\"T_30c1f_row2_col1\" class=\"data row2 col1\" >0.048608</td>\n",
       "      <td id=\"T_30c1f_row2_col2\" class=\"data row2 col2\" >0.001570</td>\n",
       "      <td id=\"T_30c1f_row2_col3\" class=\"data row2 col3\" >0.511945</td>\n",
       "      <td id=\"T_30c1f_row2_col4\" class=\"data row2 col4\" >0.522499</td>\n",
       "      <td id=\"T_30c1f_row2_col5\" class=\"data row2 col5\" >{'C': 0.1, 'epsilon': 0.1, 'loss': 'squared_epsilon_insensitive'}</td>\n",
       "      <td id=\"T_30c1f_row2_col6\" class=\"data row2 col6\" >0.330558</td>\n",
       "    </tr>\n",
       "  </tbody>\n",
       "</table>\n"
      ],
      "text/plain": [
       "<pandas.io.formats.style.Styler at 0x15cc160afd0>"
      ]
     },
     "execution_count": 39,
     "metadata": {},
     "output_type": "execute_result"
    }
   ],
   "source": [
    "res_tunning.style.hide_index()"
   ]
  },
  {
   "cell_type": "markdown",
   "id": "0686fa1f",
   "metadata": {},
   "source": [
    "#### Light Gradient Boosting Machine"
   ]
  },
  {
   "cell_type": "code",
   "execution_count": 40,
   "id": "264425b1",
   "metadata": {},
   "outputs": [],
   "source": [
    "lgb_params = {\n",
    "    'n_estimators': [ 80, 100, 500],\n",
    "    'max_depth': [-1, 5, 15, 17],\n",
    "    'num_leaves': [5,8, 10,13, 45],\n",
    "}"
   ]
  },
  {
   "cell_type": "code",
   "execution_count": 41,
   "id": "68af5b86",
   "metadata": {},
   "outputs": [
    {
     "name": "stdout",
     "output_type": "stream",
     "text": [
      "Durée d'exécution de gridCV: 40.73897647857666s\n"
     ]
    }
   ],
   "source": [
    "lgbm = gridCV( lgb.LGBMRegressor(), lgb_params, X_site_train, y_site_train,5)"
   ]
  },
  {
   "cell_type": "code",
   "execution_count": 42,
   "id": "e769dec4",
   "metadata": {},
   "outputs": [
    {
     "name": "stdout",
     "output_type": "stream",
     "text": [
      "Durée d'exécution de resultats_grid: 0.03700113296508789s\n"
     ]
    }
   ],
   "source": [
    "lgb_result = resultats_grid(lgbm, \"LGBM\",X_site_train, y_site_train)\n",
    "\n",
    "\n",
    "res_tunning = pd.concat([res_tunning,lgb_result], ignore_index=True)"
   ]
  },
  {
   "cell_type": "code",
   "execution_count": 43,
   "id": "3cef2208",
   "metadata": {},
   "outputs": [
    {
     "data": {
      "text/html": [
       "<style type=\"text/css\">\n",
       "</style>\n",
       "<table id=\"T_fed52\">\n",
       "  <thead>\n",
       "    <tr>\n",
       "      <th id=\"T_fed52_level0_col0\" class=\"col_heading level0 col0\" >modèle</th>\n",
       "      <th id=\"T_fed52_level0_col1\" class=\"col_heading level0 col1\" >Fit time</th>\n",
       "      <th id=\"T_fed52_level0_col2\" class=\"col_heading level0 col2\" >Score time</th>\n",
       "      <th id=\"T_fed52_level0_col3\" class=\"col_heading level0 col3\" >Mean train score RMSE</th>\n",
       "      <th id=\"T_fed52_level0_col4\" class=\"col_heading level0 col4\" >Mean test score RMSE</th>\n",
       "      <th id=\"T_fed52_level0_col5\" class=\"col_heading level0 col5\" >Best estimator</th>\n",
       "      <th id=\"T_fed52_level0_col6\" class=\"col_heading level0 col6\" >RMSE best estimator</th>\n",
       "    </tr>\n",
       "  </thead>\n",
       "  <tbody>\n",
       "    <tr>\n",
       "      <td id=\"T_fed52_row0_col0\" class=\"data row0 col0\" >ElasticNet</td>\n",
       "      <td id=\"T_fed52_row0_col1\" class=\"data row0 col1\" >0.007661</td>\n",
       "      <td id=\"T_fed52_row0_col2\" class=\"data row0 col2\" >0.001625</td>\n",
       "      <td id=\"T_fed52_row0_col3\" class=\"data row0 col3\" >0.491862</td>\n",
       "      <td id=\"T_fed52_row0_col4\" class=\"data row0 col4\" >0.491983</td>\n",
       "      <td id=\"T_fed52_row0_col5\" class=\"data row0 col5\" >{'alpha': 0.001, 'l1_ratio': 0.6000000000000001}</td>\n",
       "      <td id=\"T_fed52_row0_col6\" class=\"data row0 col6\" >0.329847</td>\n",
       "    </tr>\n",
       "    <tr>\n",
       "      <td id=\"T_fed52_row1_col0\" class=\"data row1 col0\" >RandomForest</td>\n",
       "      <td id=\"T_fed52_row1_col1\" class=\"data row1 col1\" >0.584846</td>\n",
       "      <td id=\"T_fed52_row1_col2\" class=\"data row1 col2\" >0.016956</td>\n",
       "      <td id=\"T_fed52_row1_col3\" class=\"data row1 col3\" >0.202753</td>\n",
       "      <td id=\"T_fed52_row1_col4\" class=\"data row1 col4\" >0.294040</td>\n",
       "      <td id=\"T_fed52_row1_col5\" class=\"data row1 col5\" >{'bootstrap': False, 'max_depth': 25, 'max_features': 'log2', 'min_samples_leaf': 2, 'min_samples_split': 5}</td>\n",
       "      <td id=\"T_fed52_row1_col6\" class=\"data row1 col6\" >0.110829</td>\n",
       "    </tr>\n",
       "    <tr>\n",
       "      <td id=\"T_fed52_row2_col0\" class=\"data row2 col0\" >SVR</td>\n",
       "      <td id=\"T_fed52_row2_col1\" class=\"data row2 col1\" >0.048608</td>\n",
       "      <td id=\"T_fed52_row2_col2\" class=\"data row2 col2\" >0.001570</td>\n",
       "      <td id=\"T_fed52_row2_col3\" class=\"data row2 col3\" >0.511945</td>\n",
       "      <td id=\"T_fed52_row2_col4\" class=\"data row2 col4\" >0.522499</td>\n",
       "      <td id=\"T_fed52_row2_col5\" class=\"data row2 col5\" >{'C': 0.1, 'epsilon': 0.1, 'loss': 'squared_epsilon_insensitive'}</td>\n",
       "      <td id=\"T_fed52_row2_col6\" class=\"data row2 col6\" >0.330558</td>\n",
       "    </tr>\n",
       "    <tr>\n",
       "      <td id=\"T_fed52_row3_col0\" class=\"data row3 col0\" >LGBM</td>\n",
       "      <td id=\"T_fed52_row3_col1\" class=\"data row3 col1\" >0.116546</td>\n",
       "      <td id=\"T_fed52_row3_col2\" class=\"data row3 col2\" >0.004737</td>\n",
       "      <td id=\"T_fed52_row3_col3\" class=\"data row3 col3\" >0.189293</td>\n",
       "      <td id=\"T_fed52_row3_col4\" class=\"data row3 col4\" >0.276891</td>\n",
       "      <td id=\"T_fed52_row3_col5\" class=\"data row3 col5\" >{'max_depth': -1, 'n_estimators': 100, 'num_leaves': 13}</td>\n",
       "      <td id=\"T_fed52_row3_col6\" class=\"data row3 col6\" >0.210743</td>\n",
       "    </tr>\n",
       "  </tbody>\n",
       "</table>\n"
      ],
      "text/plain": [
       "<pandas.io.formats.style.Styler at 0x15cc15931c0>"
      ]
     },
     "execution_count": 43,
     "metadata": {},
     "output_type": "execute_result"
    }
   ],
   "source": [
    "res_tunning.style.hide_index()"
   ]
  },
  {
   "cell_type": "markdown",
   "id": "caeb9204",
   "metadata": {},
   "source": [
    "## Modèles pour les émissions de CO2\n",
    "### Baseline"
   ]
  },
  {
   "cell_type": "code",
   "execution_count": 44,
   "id": "ff198371",
   "metadata": {},
   "outputs": [
    {
     "name": "stdout",
     "output_type": "stream",
     "text": [
      "Durée d'exécution de regression: 0.1569983959197998s\n",
      "Durée d'exécution de regression: 0.10200309753417969s\n",
      "Durée d'exécution de regression: 18.396849155426025s\n",
      "Durée d'exécution de regression: 9.949138164520264s\n",
      "Durée d'exécution de regression: 1.13100004196167s\n",
      "Durée d'exécution de compare_resultat: 29.772985219955444s\n"
     ]
    },
    {
     "data": {
      "text/html": [
       "<style type=\"text/css\">\n",
       "</style>\n",
       "<table id=\"T_3514b\">\n",
       "  <thead>\n",
       "    <tr>\n",
       "      <th id=\"T_3514b_level0_col0\" class=\"col_heading level0 col0\" >modèle </th>\n",
       "      <th id=\"T_3514b_level0_col1\" class=\"col_heading level0 col1\" >Fit time</th>\n",
       "      <th id=\"T_3514b_level0_col2\" class=\"col_heading level0 col2\" >Durée</th>\n",
       "      <th id=\"T_3514b_level0_col3\" class=\"col_heading level0 col3\" >Test R2</th>\n",
       "      <th id=\"T_3514b_level0_col4\" class=\"col_heading level0 col4\" >Train R2</th>\n",
       "      <th id=\"T_3514b_level0_col5\" class=\"col_heading level0 col5\" >Test RMSE</th>\n",
       "      <th id=\"T_3514b_level0_col6\" class=\"col_heading level0 col6\" >Test MAE</th>\n",
       "      <th id=\"T_3514b_level0_col7\" class=\"col_heading level0 col7\" >Train RMSE</th>\n",
       "      <th id=\"T_3514b_level0_col8\" class=\"col_heading level0 col8\" >Train MAE</th>\n",
       "    </tr>\n",
       "  </thead>\n",
       "  <tbody>\n",
       "    <tr>\n",
       "      <td id=\"T_3514b_row0_col0\" class=\"data row0 col0\" >linear_regression</td>\n",
       "      <td id=\"T_3514b_row0_col1\" class=\"data row0 col1\" >0.009000</td>\n",
       "      <td id=\"T_3514b_row0_col2\" class=\"data row0 col2\" >0.003100</td>\n",
       "      <td id=\"T_3514b_row0_col3\" class=\"data row0 col3\" >-319.258991</td>\n",
       "      <td id=\"T_3514b_row0_col4\" class=\"data row0 col4\" >0.682287</td>\n",
       "      <td id=\"T_3514b_row0_col5\" class=\"data row0 col5\" >0.348014</td>\n",
       "      <td id=\"T_3514b_row0_col6\" class=\"data row0 col6\" >0.263073</td>\n",
       "      <td id=\"T_3514b_row0_col7\" class=\"data row0 col7\" >0.348014</td>\n",
       "      <td id=\"T_3514b_row0_col8\" class=\"data row0 col8\" >0.263073</td>\n",
       "    </tr>\n",
       "    <tr>\n",
       "      <td id=\"T_3514b_row1_col0\" class=\"data row1 col0\" >elastic net</td>\n",
       "      <td id=\"T_3514b_row1_col1\" class=\"data row1 col1\" >0.003800</td>\n",
       "      <td id=\"T_3514b_row1_col2\" class=\"data row1 col2\" >0.002700</td>\n",
       "      <td id=\"T_3514b_row1_col3\" class=\"data row1 col3\" >0.106822</td>\n",
       "      <td id=\"T_3514b_row1_col4\" class=\"data row1 col4\" >0.115681</td>\n",
       "      <td id=\"T_3514b_row1_col5\" class=\"data row1 col5\" >0.580591</td>\n",
       "      <td id=\"T_3514b_row1_col6\" class=\"data row1 col6\" >0.478442</td>\n",
       "      <td id=\"T_3514b_row1_col7\" class=\"data row1 col7\" >0.580591</td>\n",
       "      <td id=\"T_3514b_row1_col8\" class=\"data row1 col8\" >0.478442</td>\n",
       "    </tr>\n",
       "    <tr>\n",
       "      <td id=\"T_3514b_row2_col0\" class=\"data row2 col0\" >random_forest</td>\n",
       "      <td id=\"T_3514b_row2_col1\" class=\"data row2 col1\" >1.752689</td>\n",
       "      <td id=\"T_3514b_row2_col2\" class=\"data row2 col2\" >0.020899</td>\n",
       "      <td id=\"T_3514b_row2_col3\" class=\"data row2 col3\" >0.763868</td>\n",
       "      <td id=\"T_3514b_row2_col4\" class=\"data row2 col4\" >0.967550</td>\n",
       "      <td id=\"T_3514b_row2_col5\" class=\"data row2 col5\" >0.111219</td>\n",
       "      <td id=\"T_3514b_row2_col6\" class=\"data row2 col6\" >0.078883</td>\n",
       "      <td id=\"T_3514b_row2_col7\" class=\"data row2 col7\" >0.111219</td>\n",
       "      <td id=\"T_3514b_row2_col8\" class=\"data row2 col8\" >0.078883</td>\n",
       "    </tr>\n",
       "    <tr>\n",
       "      <td id=\"T_3514b_row3_col0\" class=\"data row3 col0\" >svr</td>\n",
       "      <td id=\"T_3514b_row3_col1\" class=\"data row3 col1\" >0.361812</td>\n",
       "      <td id=\"T_3514b_row3_col2\" class=\"data row3 col2\" >0.063600</td>\n",
       "      <td id=\"T_3514b_row3_col3\" class=\"data row3 col3\" >0.745517</td>\n",
       "      <td id=\"T_3514b_row3_col4\" class=\"data row3 col4\" >0.788617</td>\n",
       "      <td id=\"T_3514b_row3_col5\" class=\"data row3 col5\" >0.283858</td>\n",
       "      <td id=\"T_3514b_row3_col6\" class=\"data row3 col6\" >0.205453</td>\n",
       "      <td id=\"T_3514b_row3_col7\" class=\"data row3 col7\" >0.283858</td>\n",
       "      <td id=\"T_3514b_row3_col8\" class=\"data row3 col8\" >0.205453</td>\n",
       "    </tr>\n",
       "    <tr>\n",
       "      <td id=\"T_3514b_row4_col0\" class=\"data row4 col0\" >LGBM</td>\n",
       "      <td id=\"T_3514b_row4_col1\" class=\"data row4 col1\" >0.099000</td>\n",
       "      <td id=\"T_3514b_row4_col2\" class=\"data row4 col2\" >0.002600</td>\n",
       "      <td id=\"T_3514b_row4_col3\" class=\"data row4 col3\" >0.770797</td>\n",
       "      <td id=\"T_3514b_row4_col4\" class=\"data row4 col4\" >0.923593</td>\n",
       "      <td id=\"T_3514b_row4_col5\" class=\"data row4 col5\" >0.170659</td>\n",
       "      <td id=\"T_3514b_row4_col6\" class=\"data row4 col6\" >0.125804</td>\n",
       "      <td id=\"T_3514b_row4_col7\" class=\"data row4 col7\" >0.170659</td>\n",
       "      <td id=\"T_3514b_row4_col8\" class=\"data row4 col8\" >0.125804</td>\n",
       "    </tr>\n",
       "  </tbody>\n",
       "</table>\n"
      ],
      "text/plain": [
       "<pandas.io.formats.style.Styler at 0x15cbe30cc10>"
      ]
     },
     "execution_count": 44,
     "metadata": {},
     "output_type": "execute_result"
    }
   ],
   "source": [
    "baseline_co2 = compare_resultat(X_Co2_train, y_Co2_train)\n",
    "baseline_co2"
   ]
  },
  {
   "cell_type": "markdown",
   "id": "32456476",
   "metadata": {},
   "source": [
    "### Tunning des paramètres\n",
    "#### Elastic Net "
   ]
  },
  {
   "cell_type": "code",
   "execution_count": 45,
   "id": "dde7722f",
   "metadata": {},
   "outputs": [
    {
     "name": "stdout",
     "output_type": "stream",
     "text": [
      "Durée d'exécution de gridCV: 60.47899603843689s\n"
     ]
    }
   ],
   "source": [
    "El_co2_grid = gridCV(linear_model.ElasticNet(), El_parameters, X_Co2_train, y_Co2_train,5)"
   ]
  },
  {
   "cell_type": "code",
   "execution_count": 46,
   "id": "e6fc3179",
   "metadata": {},
   "outputs": [
    {
     "name": "stdout",
     "output_type": "stream",
     "text": [
      "Durée d'exécution de resultats_grid: 0.0070035457611083984s\n"
     ]
    },
    {
     "data": {
      "text/html": [
       "<div>\n",
       "<style scoped>\n",
       "    .dataframe tbody tr th:only-of-type {\n",
       "        vertical-align: middle;\n",
       "    }\n",
       "\n",
       "    .dataframe tbody tr th {\n",
       "        vertical-align: top;\n",
       "    }\n",
       "\n",
       "    .dataframe thead th {\n",
       "        text-align: right;\n",
       "    }\n",
       "</style>\n",
       "<table border=\"1\" class=\"dataframe\">\n",
       "  <thead>\n",
       "    <tr style=\"text-align: right;\">\n",
       "      <th></th>\n",
       "      <th>modèle</th>\n",
       "      <th>Fit time</th>\n",
       "      <th>Score time</th>\n",
       "      <th>Mean train score RMSE</th>\n",
       "      <th>Mean test score RMSE</th>\n",
       "      <th>Best estimator</th>\n",
       "      <th>RMSE best estimator</th>\n",
       "    </tr>\n",
       "  </thead>\n",
       "  <tbody>\n",
       "    <tr>\n",
       "      <th>0</th>\n",
       "      <td>ElasticNet</td>\n",
       "      <td>0.008166</td>\n",
       "      <td>0.001688</td>\n",
       "      <td>0.592208</td>\n",
       "      <td>0.59367</td>\n",
       "      <td>{'alpha': 0.001, 'l1_ratio': 0.5}</td>\n",
       "      <td>0.348892</td>\n",
       "    </tr>\n",
       "  </tbody>\n",
       "</table>\n",
       "</div>"
      ],
      "text/plain": [
       "       modèle  Fit time  Score time  Mean train score RMSE  \\\n",
       "0  ElasticNet  0.008166    0.001688               0.592208   \n",
       "\n",
       "   Mean test score RMSE                     Best estimator  \\\n",
       "0               0.59367  {'alpha': 0.001, 'l1_ratio': 0.5}   \n",
       "\n",
       "   RMSE best estimator  \n",
       "0             0.348892  "
      ]
     },
     "execution_count": 46,
     "metadata": {},
     "output_type": "execute_result"
    }
   ],
   "source": [
    "resultat_co2_grid = resultats_grid(El_co2_grid, \"ElasticNet\", X_Co2_train, y_Co2_train)\n",
    "resultat_co2_grid"
   ]
  },
  {
   "cell_type": "markdown",
   "id": "bb8fd403",
   "metadata": {},
   "source": [
    "#### Random_Forest"
   ]
  },
  {
   "cell_type": "code",
   "execution_count": 47,
   "id": "d3e6869d",
   "metadata": {},
   "outputs": [
    {
     "name": "stdout",
     "output_type": "stream",
     "text": [
      "Durée d'exécution de gridCV: 946.8258669376373s\n"
     ]
    }
   ],
   "source": [
    "rf_co2 = gridCV(RandomForestRegressor(), random_parameters,X_Co2_train, y_Co2_train,5)"
   ]
  },
  {
   "cell_type": "code",
   "execution_count": 48,
   "id": "a9b4ea1a",
   "metadata": {},
   "outputs": [
    {
     "name": "stdout",
     "output_type": "stream",
     "text": [
      "Durée d'exécution de resultats_grid: 0.07599949836730957s\n"
     ]
    }
   ],
   "source": [
    "rf_res = resultats_grid(rf_co2, \"RandomForest\",X_Co2_train, y_Co2_train)\n",
    "\n",
    "\n",
    "resultat_co2_grid = pd.concat([resultat_co2_grid,rf_res], ignore_index=True)"
   ]
  },
  {
   "cell_type": "code",
   "execution_count": 49,
   "id": "333c1f58",
   "metadata": {},
   "outputs": [
    {
     "data": {
      "text/html": [
       "<div>\n",
       "<style scoped>\n",
       "    .dataframe tbody tr th:only-of-type {\n",
       "        vertical-align: middle;\n",
       "    }\n",
       "\n",
       "    .dataframe tbody tr th {\n",
       "        vertical-align: top;\n",
       "    }\n",
       "\n",
       "    .dataframe thead th {\n",
       "        text-align: right;\n",
       "    }\n",
       "</style>\n",
       "<table border=\"1\" class=\"dataframe\">\n",
       "  <thead>\n",
       "    <tr style=\"text-align: right;\">\n",
       "      <th></th>\n",
       "      <th>modèle</th>\n",
       "      <th>Fit time</th>\n",
       "      <th>Score time</th>\n",
       "      <th>Mean train score RMSE</th>\n",
       "      <th>Mean test score RMSE</th>\n",
       "      <th>Best estimator</th>\n",
       "      <th>RMSE best estimator</th>\n",
       "    </tr>\n",
       "  </thead>\n",
       "  <tbody>\n",
       "    <tr>\n",
       "      <th>0</th>\n",
       "      <td>ElasticNet</td>\n",
       "      <td>0.008166</td>\n",
       "      <td>0.001688</td>\n",
       "      <td>0.592208</td>\n",
       "      <td>0.593670</td>\n",
       "      <td>{'alpha': 0.001, 'l1_ratio': 0.5}</td>\n",
       "      <td>0.348892</td>\n",
       "    </tr>\n",
       "    <tr>\n",
       "      <th>1</th>\n",
       "      <td>RandomForest</td>\n",
       "      <td>0.603639</td>\n",
       "      <td>0.017549</td>\n",
       "      <td>0.213051</td>\n",
       "      <td>0.315439</td>\n",
       "      <td>{'bootstrap': False, 'max_depth': 50, 'max_fea...</td>\n",
       "      <td>0.117155</td>\n",
       "    </tr>\n",
       "  </tbody>\n",
       "</table>\n",
       "</div>"
      ],
      "text/plain": [
       "         modèle  Fit time  Score time  Mean train score RMSE  \\\n",
       "0    ElasticNet  0.008166    0.001688               0.592208   \n",
       "1  RandomForest  0.603639    0.017549               0.213051   \n",
       "\n",
       "   Mean test score RMSE                                     Best estimator  \\\n",
       "0              0.593670                  {'alpha': 0.001, 'l1_ratio': 0.5}   \n",
       "1              0.315439  {'bootstrap': False, 'max_depth': 50, 'max_fea...   \n",
       "\n",
       "   RMSE best estimator  \n",
       "0             0.348892  \n",
       "1             0.117155  "
      ]
     },
     "execution_count": 49,
     "metadata": {},
     "output_type": "execute_result"
    }
   ],
   "source": [
    "resultat_co2_grid"
   ]
  },
  {
   "cell_type": "markdown",
   "id": "80153033",
   "metadata": {},
   "source": [
    "#### SVR"
   ]
  },
  {
   "cell_type": "code",
   "execution_count": 50,
   "id": "21244814",
   "metadata": {},
   "outputs": [
    {
     "name": "stdout",
     "output_type": "stream",
     "text": [
      "Durée d'exécution de gridCV: 14.022998571395874s\n",
      "Durée d'exécution de resultats_grid: 0.003999948501586914s\n"
     ]
    }
   ],
   "source": [
    "svr_co2 = gridCV(LinearSVR(), svr_parameters,X_Co2_train, y_Co2_train,5)\n",
    "\n",
    "svr_res = resultats_grid(svr_co2, \"SVR\", X_Co2_train, y_Co2_train)\n",
    "\n",
    "\n",
    "resultat_co2_grid = pd.concat([resultat_co2_grid,svr_res], ignore_index=True)"
   ]
  },
  {
   "cell_type": "code",
   "execution_count": 51,
   "id": "2a8392e0",
   "metadata": {},
   "outputs": [
    {
     "data": {
      "text/html": [
       "<div>\n",
       "<style scoped>\n",
       "    .dataframe tbody tr th:only-of-type {\n",
       "        vertical-align: middle;\n",
       "    }\n",
       "\n",
       "    .dataframe tbody tr th {\n",
       "        vertical-align: top;\n",
       "    }\n",
       "\n",
       "    .dataframe thead th {\n",
       "        text-align: right;\n",
       "    }\n",
       "</style>\n",
       "<table border=\"1\" class=\"dataframe\">\n",
       "  <thead>\n",
       "    <tr style=\"text-align: right;\">\n",
       "      <th></th>\n",
       "      <th>modèle</th>\n",
       "      <th>Fit time</th>\n",
       "      <th>Score time</th>\n",
       "      <th>Mean train score RMSE</th>\n",
       "      <th>Mean test score RMSE</th>\n",
       "      <th>Best estimator</th>\n",
       "      <th>RMSE best estimator</th>\n",
       "    </tr>\n",
       "  </thead>\n",
       "  <tbody>\n",
       "    <tr>\n",
       "      <th>0</th>\n",
       "      <td>ElasticNet</td>\n",
       "      <td>0.008166</td>\n",
       "      <td>0.001688</td>\n",
       "      <td>0.592208</td>\n",
       "      <td>0.593670</td>\n",
       "      <td>{'alpha': 0.001, 'l1_ratio': 0.5}</td>\n",
       "      <td>0.348892</td>\n",
       "    </tr>\n",
       "    <tr>\n",
       "      <th>1</th>\n",
       "      <td>RandomForest</td>\n",
       "      <td>0.603639</td>\n",
       "      <td>0.017549</td>\n",
       "      <td>0.213051</td>\n",
       "      <td>0.315439</td>\n",
       "      <td>{'bootstrap': False, 'max_depth': 50, 'max_fea...</td>\n",
       "      <td>0.117155</td>\n",
       "    </tr>\n",
       "    <tr>\n",
       "      <th>2</th>\n",
       "      <td>SVR</td>\n",
       "      <td>0.042402</td>\n",
       "      <td>0.001585</td>\n",
       "      <td>0.514837</td>\n",
       "      <td>0.528978</td>\n",
       "      <td>{'C': 0.1, 'epsilon': 0.1, 'loss': 'squared_ep...</td>\n",
       "      <td>0.349293</td>\n",
       "    </tr>\n",
       "  </tbody>\n",
       "</table>\n",
       "</div>"
      ],
      "text/plain": [
       "         modèle  Fit time  Score time  Mean train score RMSE  \\\n",
       "0    ElasticNet  0.008166    0.001688               0.592208   \n",
       "1  RandomForest  0.603639    0.017549               0.213051   \n",
       "2           SVR  0.042402    0.001585               0.514837   \n",
       "\n",
       "   Mean test score RMSE                                     Best estimator  \\\n",
       "0              0.593670                  {'alpha': 0.001, 'l1_ratio': 0.5}   \n",
       "1              0.315439  {'bootstrap': False, 'max_depth': 50, 'max_fea...   \n",
       "2              0.528978  {'C': 0.1, 'epsilon': 0.1, 'loss': 'squared_ep...   \n",
       "\n",
       "   RMSE best estimator  \n",
       "0             0.348892  \n",
       "1             0.117155  \n",
       "2             0.349293  "
      ]
     },
     "execution_count": 51,
     "metadata": {},
     "output_type": "execute_result"
    }
   ],
   "source": [
    "resultat_co2_grid"
   ]
  },
  {
   "cell_type": "markdown",
   "id": "5635aab3",
   "metadata": {},
   "source": [
    "#### Light GBM"
   ]
  },
  {
   "cell_type": "code",
   "execution_count": 52,
   "id": "0d9f62ba",
   "metadata": {},
   "outputs": [
    {
     "name": "stdout",
     "output_type": "stream",
     "text": [
      "Durée d'exécution de gridCV: 37.77401614189148s\n"
     ]
    }
   ],
   "source": [
    "lgbm_co2 = gridCV(lgb.LGBMRegressor(), lgb_params, X_Co2_train, y_Co2_train,5)"
   ]
  },
  {
   "cell_type": "code",
   "execution_count": 53,
   "id": "102e5434",
   "metadata": {},
   "outputs": [
    {
     "name": "stdout",
     "output_type": "stream",
     "text": [
      "Durée d'exécution de resultats_grid: 0.04200005531311035s\n"
     ]
    }
   ],
   "source": [
    "lgb_res = resultats_grid(lgbm_co2, \"LGBM\", X_Co2_train, y_Co2_train)\n",
    "\n",
    "\n",
    "resultat_co2_grid = pd.concat([resultat_co2_grid,lgb_res], ignore_index=True)"
   ]
  },
  {
   "cell_type": "code",
   "execution_count": 54,
   "id": "c3c63c77",
   "metadata": {},
   "outputs": [
    {
     "data": {
      "text/html": [
       "<style type=\"text/css\">\n",
       "</style>\n",
       "<table id=\"T_0e9d4\">\n",
       "  <thead>\n",
       "    <tr>\n",
       "      <th id=\"T_0e9d4_level0_col0\" class=\"col_heading level0 col0\" >modèle</th>\n",
       "      <th id=\"T_0e9d4_level0_col1\" class=\"col_heading level0 col1\" >Fit time</th>\n",
       "      <th id=\"T_0e9d4_level0_col2\" class=\"col_heading level0 col2\" >Score time</th>\n",
       "      <th id=\"T_0e9d4_level0_col3\" class=\"col_heading level0 col3\" >Mean train score RMSE</th>\n",
       "      <th id=\"T_0e9d4_level0_col4\" class=\"col_heading level0 col4\" >Mean test score RMSE</th>\n",
       "      <th id=\"T_0e9d4_level0_col5\" class=\"col_heading level0 col5\" >Best estimator</th>\n",
       "      <th id=\"T_0e9d4_level0_col6\" class=\"col_heading level0 col6\" >RMSE best estimator</th>\n",
       "    </tr>\n",
       "  </thead>\n",
       "  <tbody>\n",
       "    <tr>\n",
       "      <td id=\"T_0e9d4_row0_col0\" class=\"data row0 col0\" >ElasticNet</td>\n",
       "      <td id=\"T_0e9d4_row0_col1\" class=\"data row0 col1\" >0.008166</td>\n",
       "      <td id=\"T_0e9d4_row0_col2\" class=\"data row0 col2\" >0.001688</td>\n",
       "      <td id=\"T_0e9d4_row0_col3\" class=\"data row0 col3\" >0.592208</td>\n",
       "      <td id=\"T_0e9d4_row0_col4\" class=\"data row0 col4\" >0.593670</td>\n",
       "      <td id=\"T_0e9d4_row0_col5\" class=\"data row0 col5\" >{'alpha': 0.001, 'l1_ratio': 0.5}</td>\n",
       "      <td id=\"T_0e9d4_row0_col6\" class=\"data row0 col6\" >0.348892</td>\n",
       "    </tr>\n",
       "    <tr>\n",
       "      <td id=\"T_0e9d4_row1_col0\" class=\"data row1 col0\" >RandomForest</td>\n",
       "      <td id=\"T_0e9d4_row1_col1\" class=\"data row1 col1\" >0.603639</td>\n",
       "      <td id=\"T_0e9d4_row1_col2\" class=\"data row1 col2\" >0.017549</td>\n",
       "      <td id=\"T_0e9d4_row1_col3\" class=\"data row1 col3\" >0.213051</td>\n",
       "      <td id=\"T_0e9d4_row1_col4\" class=\"data row1 col4\" >0.315439</td>\n",
       "      <td id=\"T_0e9d4_row1_col5\" class=\"data row1 col5\" >{'bootstrap': False, 'max_depth': 50, 'max_features': 'sqrt', 'min_samples_leaf': 1, 'min_samples_split': 10}</td>\n",
       "      <td id=\"T_0e9d4_row1_col6\" class=\"data row1 col6\" >0.117155</td>\n",
       "    </tr>\n",
       "    <tr>\n",
       "      <td id=\"T_0e9d4_row2_col0\" class=\"data row2 col0\" >SVR</td>\n",
       "      <td id=\"T_0e9d4_row2_col1\" class=\"data row2 col1\" >0.042402</td>\n",
       "      <td id=\"T_0e9d4_row2_col2\" class=\"data row2 col2\" >0.001585</td>\n",
       "      <td id=\"T_0e9d4_row2_col3\" class=\"data row2 col3\" >0.514837</td>\n",
       "      <td id=\"T_0e9d4_row2_col4\" class=\"data row2 col4\" >0.528978</td>\n",
       "      <td id=\"T_0e9d4_row2_col5\" class=\"data row2 col5\" >{'C': 0.1, 'epsilon': 0.1, 'loss': 'squared_epsilon_insensitive'}</td>\n",
       "      <td id=\"T_0e9d4_row2_col6\" class=\"data row2 col6\" >0.349293</td>\n",
       "    </tr>\n",
       "    <tr>\n",
       "      <td id=\"T_0e9d4_row3_col0\" class=\"data row3 col0\" >LGBM</td>\n",
       "      <td id=\"T_0e9d4_row3_col1\" class=\"data row3 col1\" >0.107554</td>\n",
       "      <td id=\"T_0e9d4_row3_col2\" class=\"data row3 col2\" >0.004443</td>\n",
       "      <td id=\"T_0e9d4_row3_col3\" class=\"data row3 col3\" >0.202431</td>\n",
       "      <td id=\"T_0e9d4_row3_col4\" class=\"data row3 col4\" >0.297506</td>\n",
       "      <td id=\"T_0e9d4_row3_col5\" class=\"data row3 col5\" >{'max_depth': -1, 'n_estimators': 500, 'num_leaves': 5}</td>\n",
       "      <td id=\"T_0e9d4_row3_col6\" class=\"data row3 col6\" >0.218913</td>\n",
       "    </tr>\n",
       "  </tbody>\n",
       "</table>\n"
      ],
      "text/plain": [
       "<pandas.io.formats.style.Styler at 0x15cc15ab070>"
      ]
     },
     "execution_count": 54,
     "metadata": {},
     "output_type": "execute_result"
    }
   ],
   "source": [
    "resultat_co2_grid.style.hide_index()"
   ]
  },
  {
   "cell_type": "markdown",
   "id": "16a6c9ff",
   "metadata": {},
   "source": [
    "## Choix du Modele  \n",
    "\n"
   ]
  },
  {
   "cell_type": "code",
   "execution_count": 57,
   "id": "3814ed94",
   "metadata": {},
   "outputs": [],
   "source": [
    "@timeit\n",
    "def affiche_modelisations(data, name):\n",
    "    x = np.arange(len(data.index))\n",
    "    width = 0.35\n",
    "\n",
    "    fig, ax = plt.subplots(1,2,figsize=(20,9), sharey=False, sharex=False)\n",
    "\n",
    "    scores1 = ax[0].bar(x - width/2, data['Mean train score RMSE'], width, label='Test')\n",
    "    scores2 = ax[0].bar(x + width/2, data['Mean test score RMSE'], width, label='Train')\n",
    "    ax[0].set_ylabel('Root Mean Squared Error')\n",
    "    ax[0].set_title('Comparaison des scores sur le train et le test set par modèle')\n",
    "    ax[0].set_xticks(x)\n",
    "    ax[0].set_xticklabels(data['modèle'])\n",
    "    ax[0].legend()\n",
    "    ax[0].bar_label(scores1, padding=3)\n",
    "    ax[0].bar_label(scores2, padding=3)\n",
    "\n",
    "\n",
    "\n",
    "    times1 = ax[1].bar(x - width/2, data['Fit time'], width, label='fit time')\n",
    "    times2 = ax[1].bar(x + width/2, data['Score time'], width, label='score time')\n",
    "    ax[1].set_ylabel('temps(s)')\n",
    "    ax[1].set_title(\"Comparaison des temps d'entrainnement et de prédiction\")\n",
    "    ax[1].set_xticks(x)\n",
    "    ax[1].set_xticklabels(data['modèle'])\n",
    "    ax[1].legend()\n",
    "    ax[1].bar_label(times1, padding=3, fmt='%.3f')\n",
    "    ax[1].bar_label(times2, padding=3, fmt='%.3f')\n",
    "\n",
    "    plt.suptitle(f\"Modélisations pour la target {name} \", fontsize=22)\n",
    "    fig.tight_layout()\n",
    "\n",
    "    plt.show()"
   ]
  },
  {
   "cell_type": "code",
   "execution_count": 58,
   "id": "0cc9ccb3",
   "metadata": {},
   "outputs": [
    {
     "data": {
      "image/png": "[encoded data removed]",
      "text/plain": [
       "<Figure size 1440x648 with 2 Axes>"
      ]
     },
     "metadata": {
      "needs_background": "light"
     },
     "output_type": "display_data"
    },
    {
     "name": "stdout",
     "output_type": "stream",
     "text": [
      "Durée d'exécution de affiche_modelisations: 0.4380025863647461s\n"
     ]
    }
   ],
   "source": [
    "affiche_modelisations(res_tunning, \"Site Energy Use\")"
   ]
  },
  {
   "cell_type": "code",
   "execution_count": 59,
   "id": "20336eac",
   "metadata": {
    "scrolled": false
   },
   "outputs": [
    {
     "data": {
      "image/png": "[encoded data removed]",
      "text/plain": [
       "<Figure size 1440x648 with 2 Axes>"
      ]
     },
     "metadata": {
      "needs_background": "light"
     },
     "output_type": "display_data"
    },
    {
     "name": "stdout",
     "output_type": "stream",
     "text": [
      "Durée d'exécution de affiche_modelisations: 0.4529995918273926s\n"
     ]
    }
   ],
   "source": [
    "affiche_modelisations(resultat_co2_grid, \"GHG Emissions\")"
   ]
  },
  {
   "cell_type": "code",
   "execution_count": 60,
   "id": "b0d30f0d",
   "metadata": {},
   "outputs": [],
   "source": [
    "def affiche_rmse_modele(data1, data2):\n",
    "    width = 0.35\n",
    "    x= np.arange(len(data1.index))\n",
    "    plt.figure(figsize=(20,9))\n",
    "    scores1 = plt.bar(x - width/2, data1[\"RMSE best estimator\"], width, label='SEU')\n",
    "    scores2 = plt.bar(x + width/2, data2['RMSE best estimator'], width, label='GHGEmissions')\n",
    "    plt.ylabel('Root Mean Squared Error')\n",
    "    plt.title('Comparaison des scores RMSE avec les meilleurs hyperparamètres pour les deux target et par modèle',fontsize=22)\n",
    "    plt.xticks(x, data1['modèle'])\n",
    "    #plt.xticklabels()\n",
    "    plt.legend()\n",
    "    plt.bar_label(scores1, padding=3)\n",
    "    plt.bar_label(scores2, padding=3)\n",
    "    plt.show()"
   ]
  },
  {
   "cell_type": "code",
   "execution_count": 61,
   "id": "3f13dc44",
   "metadata": {},
   "outputs": [
    {
     "data": {
      "image/png": "[encoded data removed]",
      "text/plain": [
       "<Figure size 1440x648 with 1 Axes>"
      ]
     },
     "metadata": {
      "needs_background": "light"
     },
     "output_type": "display_data"
    }
   ],
   "source": [
    "affiche_rmse_modele(res_tunning,resultat_co2_grid)"
   ]
  },
  {
   "cell_type": "markdown",
   "id": "a6ce8e82",
   "metadata": {},
   "source": [
    "Pour les émissions de Co2, Random Forest obtiens le meilleur score **0.11** en **0.57s**. \n",
    "\n",
    "LGBM obtiens des résultats avec 0.10 points de différences pour le score mais plus rapide.  \n",
    "\n",
    "\n",
    "**Pour les deux target nous choisissons le Random Forest car il obtiens les meilleurs duo temps/scores.**"
   ]
  },
  {
   "cell_type": "code",
   "execution_count": 62,
   "id": "91e086fc",
   "metadata": {},
   "outputs": [],
   "source": [
    "rf_co2_optimal = rf_co2.best_estimator_\n",
    "rf_site_optimal = rf_grid.best_estimator_"
   ]
  },
  {
   "cell_type": "code",
   "execution_count": 63,
   "id": "6e4575d6",
   "metadata": {},
   "outputs": [
    {
     "data": {
      "text/plain": [
       "RandomForestRegressor(bootstrap=False, max_depth=50, max_features='sqrt',\n",
       "                      min_samples_split=10)"
      ]
     },
     "execution_count": 63,
     "metadata": {},
     "output_type": "execute_result"
    }
   ],
   "source": [
    "rf_co2_optimal"
   ]
  },
  {
   "cell_type": "code",
   "execution_count": 64,
   "id": "c46900c5",
   "metadata": {},
   "outputs": [
    {
     "data": {
      "text/plain": [
       "RandomForestRegressor(bootstrap=False, max_depth=25, max_features='log2',\n",
       "                      min_samples_leaf=2, min_samples_split=5)"
      ]
     },
     "execution_count": 64,
     "metadata": {},
     "output_type": "execute_result"
    }
   ],
   "source": [
    "rf_site_optimal"
   ]
  },
  {
   "cell_type": "markdown",
   "id": "ea6763ad",
   "metadata": {},
   "source": [
    "### Features importances"
   ]
  },
  {
   "cell_type": "code",
   "execution_count": 65,
   "id": "70b773c8",
   "metadata": {},
   "outputs": [],
   "source": [
    "# Affichage des features importance\n",
    "def affic_features_impotance_model(model,  X_test, name):\n",
    "    \n",
    "    feat_imp = model.feature_importances_\n",
    "    df_featimp = pd.DataFrame(feat_imp, columns = {\"Feature Importance\"})\n",
    "    df_featimp[\"Feature Name\"] = X_test.columns\n",
    "    df_featimp = df_featimp.sort_values(by=\"Feature Importance\", ascending=True)\n",
    "    display(df_featimp)\n",
    "    \n",
    "    # Affichage Features importance\n",
    "    plt.figure(figsize=(10,7))\n",
    "    #df_featimp.plot.bar(x= \"Feature Importance\", y = \"Feature Name\", title =f\"Feature importance pour le modele {name} \")\n",
    "    #plt.barh(X_test.columns, feat_imp)\n",
    "    plt.barh(df_featimp[\"Feature Name\"], df_featimp[\"Feature Importance\"])\n",
    "    plt.xlabel(\"Feature Importance\")\n",
    "    plt.title(f\"Feature importance pour le modele {name} \")\n",
    "    plt.show()\n",
    "\n",
    "    return None"
   ]
  },
  {
   "cell_type": "code",
   "execution_count": 66,
   "id": "4d43c862",
   "metadata": {},
   "outputs": [
    {
     "data": {
      "text/html": [
       "<div>\n",
       "<style scoped>\n",
       "    .dataframe tbody tr th:only-of-type {\n",
       "        vertical-align: middle;\n",
       "    }\n",
       "\n",
       "    .dataframe tbody tr th {\n",
       "        vertical-align: top;\n",
       "    }\n",
       "\n",
       "    .dataframe thead th {\n",
       "        text-align: right;\n",
       "    }\n",
       "</style>\n",
       "<table border=\"1\" class=\"dataframe\">\n",
       "  <thead>\n",
       "    <tr style=\"text-align: right;\">\n",
       "      <th></th>\n",
       "      <th>Feature Importance</th>\n",
       "      <th>Feature Name</th>\n",
       "    </tr>\n",
       "  </thead>\n",
       "  <tbody>\n",
       "    <tr>\n",
       "      <th>8</th>\n",
       "      <td>0.000000</td>\n",
       "      <td>Electricity(kBtu)</td>\n",
       "    </tr>\n",
       "    <tr>\n",
       "      <th>17</th>\n",
       "      <td>0.005576</td>\n",
       "      <td>NumberOfAllUseTypes</td>\n",
       "    </tr>\n",
       "    <tr>\n",
       "      <th>16</th>\n",
       "      <td>0.006066</td>\n",
       "      <td>RateThirdLargestPropertyUseType</td>\n",
       "    </tr>\n",
       "    <tr>\n",
       "      <th>5</th>\n",
       "      <td>0.006394</td>\n",
       "      <td>ThirdLargestPropertyUseType</td>\n",
       "    </tr>\n",
       "    <tr>\n",
       "      <th>11</th>\n",
       "      <td>0.007929</td>\n",
       "      <td>RateBuilding</td>\n",
       "    </tr>\n",
       "    <tr>\n",
       "      <th>10</th>\n",
       "      <td>0.008519</td>\n",
       "      <td>RateParking</td>\n",
       "    </tr>\n",
       "    <tr>\n",
       "      <th>4</th>\n",
       "      <td>0.008626</td>\n",
       "      <td>SecondLargestPropertyUseType</td>\n",
       "    </tr>\n",
       "    <tr>\n",
       "      <th>15</th>\n",
       "      <td>0.012394</td>\n",
       "      <td>RateSecondLargestPropertyUseType</td>\n",
       "    </tr>\n",
       "    <tr>\n",
       "      <th>14</th>\n",
       "      <td>0.020457</td>\n",
       "      <td>RateLargestPropertyUseType</td>\n",
       "    </tr>\n",
       "    <tr>\n",
       "      <th>2</th>\n",
       "      <td>0.023150</td>\n",
       "      <td>Neighborhood</td>\n",
       "    </tr>\n",
       "    <tr>\n",
       "      <th>7</th>\n",
       "      <td>0.032824</td>\n",
       "      <td>SteamUse(kBtu)</td>\n",
       "    </tr>\n",
       "    <tr>\n",
       "      <th>0</th>\n",
       "      <td>0.041187</td>\n",
       "      <td>BuildingType</td>\n",
       "    </tr>\n",
       "    <tr>\n",
       "      <th>6</th>\n",
       "      <td>0.042868</td>\n",
       "      <td>BuildingAge</td>\n",
       "    </tr>\n",
       "    <tr>\n",
       "      <th>18</th>\n",
       "      <td>0.043584</td>\n",
       "      <td>haversine_distance</td>\n",
       "    </tr>\n",
       "    <tr>\n",
       "      <th>3</th>\n",
       "      <td>0.057467</td>\n",
       "      <td>LargestPropertyUseType</td>\n",
       "    </tr>\n",
       "    <tr>\n",
       "      <th>1</th>\n",
       "      <td>0.062648</td>\n",
       "      <td>PrimaryPropertyType</td>\n",
       "    </tr>\n",
       "    <tr>\n",
       "      <th>12</th>\n",
       "      <td>0.099716</td>\n",
       "      <td>RatePerFloors</td>\n",
       "    </tr>\n",
       "    <tr>\n",
       "      <th>13</th>\n",
       "      <td>0.238205</td>\n",
       "      <td>RatePerBuildings</td>\n",
       "    </tr>\n",
       "    <tr>\n",
       "      <th>9</th>\n",
       "      <td>0.282390</td>\n",
       "      <td>NaturalGas(kBtu)</td>\n",
       "    </tr>\n",
       "  </tbody>\n",
       "</table>\n",
       "</div>"
      ],
      "text/plain": [
       "    Feature Importance                      Feature Name\n",
       "8             0.000000                 Electricity(kBtu)\n",
       "17            0.005576               NumberOfAllUseTypes\n",
       "16            0.006066   RateThirdLargestPropertyUseType\n",
       "5             0.006394       ThirdLargestPropertyUseType\n",
       "11            0.007929                      RateBuilding\n",
       "10            0.008519                       RateParking\n",
       "4             0.008626      SecondLargestPropertyUseType\n",
       "15            0.012394  RateSecondLargestPropertyUseType\n",
       "14            0.020457        RateLargestPropertyUseType\n",
       "2             0.023150                      Neighborhood\n",
       "7             0.032824                    SteamUse(kBtu)\n",
       "0             0.041187                      BuildingType\n",
       "6             0.042868                       BuildingAge\n",
       "18            0.043584                haversine_distance\n",
       "3             0.057467            LargestPropertyUseType\n",
       "1             0.062648               PrimaryPropertyType\n",
       "12            0.099716                     RatePerFloors\n",
       "13            0.238205                  RatePerBuildings\n",
       "9             0.282390                  NaturalGas(kBtu)"
      ]
     },
     "metadata": {},
     "output_type": "display_data"
    },
    {
     "data": {
      "image/png": "[encoded data removed]",
      "text/plain": [
       "<Figure size 720x504 with 1 Axes>"
      ]
     },
     "metadata": {
      "needs_background": "light"
     },
     "output_type": "display_data"
    }
   ],
   "source": [
    "affic_features_impotance_model(rf_co2_optimal, X_Co2_test, \" RF sur les émissions de co2 \")"
   ]
  },
  {
   "cell_type": "markdown",
   "id": "cd62ba2a",
   "metadata": {},
   "source": [
    "On note que : \n",
    "  - l'électricité,\n",
    "  - le nombre total de type d'usage\n",
    "  - la surface du bâtiment, \n",
    "  - l'utilisation de vapeur \n",
    "  - le type de bâtiment type d'énergie,\n",
    "  n'influencent pas beaucoup (<0.05) sur les émissions de Co2."
   ]
  },
  {
   "cell_type": "code",
   "execution_count": 67,
   "id": "f2d3c67d",
   "metadata": {},
   "outputs": [
    {
     "data": {
      "text/html": [
       "<div>\n",
       "<style scoped>\n",
       "    .dataframe tbody tr th:only-of-type {\n",
       "        vertical-align: middle;\n",
       "    }\n",
       "\n",
       "    .dataframe tbody tr th {\n",
       "        vertical-align: top;\n",
       "    }\n",
       "\n",
       "    .dataframe thead th {\n",
       "        text-align: right;\n",
       "    }\n",
       "</style>\n",
       "<table border=\"1\" class=\"dataframe\">\n",
       "  <thead>\n",
       "    <tr style=\"text-align: right;\">\n",
       "      <th></th>\n",
       "      <th>Feature Importance</th>\n",
       "      <th>Feature Name</th>\n",
       "    </tr>\n",
       "  </thead>\n",
       "  <tbody>\n",
       "    <tr>\n",
       "      <th>8</th>\n",
       "      <td>0.000000</td>\n",
       "      <td>Electricity(kBtu)</td>\n",
       "    </tr>\n",
       "    <tr>\n",
       "      <th>5</th>\n",
       "      <td>0.005891</td>\n",
       "      <td>ThirdLargestPropertyUseType</td>\n",
       "    </tr>\n",
       "    <tr>\n",
       "      <th>16</th>\n",
       "      <td>0.007197</td>\n",
       "      <td>RateThirdLargestPropertyUseType</td>\n",
       "    </tr>\n",
       "    <tr>\n",
       "      <th>17</th>\n",
       "      <td>0.007646</td>\n",
       "      <td>NumberOfAllUseTypes</td>\n",
       "    </tr>\n",
       "    <tr>\n",
       "      <th>7</th>\n",
       "      <td>0.010480</td>\n",
       "      <td>SteamUse(kBtu)</td>\n",
       "    </tr>\n",
       "    <tr>\n",
       "      <th>4</th>\n",
       "      <td>0.010691</td>\n",
       "      <td>SecondLargestPropertyUseType</td>\n",
       "    </tr>\n",
       "    <tr>\n",
       "      <th>10</th>\n",
       "      <td>0.011233</td>\n",
       "      <td>RateParking</td>\n",
       "    </tr>\n",
       "    <tr>\n",
       "      <th>11</th>\n",
       "      <td>0.011416</td>\n",
       "      <td>RateBuilding</td>\n",
       "    </tr>\n",
       "    <tr>\n",
       "      <th>15</th>\n",
       "      <td>0.014029</td>\n",
       "      <td>RateSecondLargestPropertyUseType</td>\n",
       "    </tr>\n",
       "    <tr>\n",
       "      <th>14</th>\n",
       "      <td>0.027467</td>\n",
       "      <td>RateLargestPropertyUseType</td>\n",
       "    </tr>\n",
       "    <tr>\n",
       "      <th>2</th>\n",
       "      <td>0.030042</td>\n",
       "      <td>Neighborhood</td>\n",
       "    </tr>\n",
       "    <tr>\n",
       "      <th>6</th>\n",
       "      <td>0.042111</td>\n",
       "      <td>BuildingAge</td>\n",
       "    </tr>\n",
       "    <tr>\n",
       "      <th>9</th>\n",
       "      <td>0.049225</td>\n",
       "      <td>NaturalGas(kBtu)</td>\n",
       "    </tr>\n",
       "    <tr>\n",
       "      <th>18</th>\n",
       "      <td>0.050435</td>\n",
       "      <td>haversine_distance</td>\n",
       "    </tr>\n",
       "    <tr>\n",
       "      <th>0</th>\n",
       "      <td>0.051466</td>\n",
       "      <td>BuildingType</td>\n",
       "    </tr>\n",
       "    <tr>\n",
       "      <th>3</th>\n",
       "      <td>0.069536</td>\n",
       "      <td>LargestPropertyUseType</td>\n",
       "    </tr>\n",
       "    <tr>\n",
       "      <th>1</th>\n",
       "      <td>0.081330</td>\n",
       "      <td>PrimaryPropertyType</td>\n",
       "    </tr>\n",
       "    <tr>\n",
       "      <th>12</th>\n",
       "      <td>0.147912</td>\n",
       "      <td>RatePerFloors</td>\n",
       "    </tr>\n",
       "    <tr>\n",
       "      <th>13</th>\n",
       "      <td>0.371891</td>\n",
       "      <td>RatePerBuildings</td>\n",
       "    </tr>\n",
       "  </tbody>\n",
       "</table>\n",
       "</div>"
      ],
      "text/plain": [
       "    Feature Importance                      Feature Name\n",
       "8             0.000000                 Electricity(kBtu)\n",
       "5             0.005891       ThirdLargestPropertyUseType\n",
       "16            0.007197   RateThirdLargestPropertyUseType\n",
       "17            0.007646               NumberOfAllUseTypes\n",
       "7             0.010480                    SteamUse(kBtu)\n",
       "4             0.010691      SecondLargestPropertyUseType\n",
       "10            0.011233                       RateParking\n",
       "11            0.011416                      RateBuilding\n",
       "15            0.014029  RateSecondLargestPropertyUseType\n",
       "14            0.027467        RateLargestPropertyUseType\n",
       "2             0.030042                      Neighborhood\n",
       "6             0.042111                       BuildingAge\n",
       "9             0.049225                  NaturalGas(kBtu)\n",
       "18            0.050435                haversine_distance\n",
       "0             0.051466                      BuildingType\n",
       "3             0.069536            LargestPropertyUseType\n",
       "1             0.081330               PrimaryPropertyType\n",
       "12            0.147912                     RatePerFloors\n",
       "13            0.371891                  RatePerBuildings"
      ]
     },
     "metadata": {},
     "output_type": "display_data"
    },
    {
     "data": {
      "image/png": "[encoded data removed]",
      "text/plain": [
       "<Figure size 720x504 with 1 Axes>"
      ]
     },
     "metadata": {
      "needs_background": "light"
     },
     "output_type": "display_data"
    }
   ],
   "source": [
    "affic_features_impotance_model(rf_site_optimal, X_site_test,\" RF sur la consommation totale \")"
   ]
  },
  {
   "cell_type": "markdown",
   "id": "3a3102ce",
   "metadata": {},
   "source": [
    "On note que : \n",
    "- l'électricité,\n",
    "- la surface du batiment,\n",
    "- le 3eme type d'usage\n",
    "- l'utilisation de vapeur \n",
    "- la surface du parking\n",
    "- le type de batiment\n",
    "n'influencent pas beaucoup la prédiction de la consommation totale d'énergie."
   ]
  },
  {
   "cell_type": "markdown",
   "id": "27e9ca8e",
   "metadata": {},
   "source": [
    "### Analyse des prédictions"
   ]
  },
  {
   "cell_type": "code",
   "execution_count": 68,
   "id": "0fd3bb70",
   "metadata": {},
   "outputs": [],
   "source": [
    "#création d'un dataframe des prédiction avec la tranformation log ou non.\n",
    "y_site_pred = rf_site_optimal.predict(X_site_test)\n",
    "\n",
    "prediction_site = pd.DataFrame([y_site_test,pd.Series(y_site_pred, index = y_site_test.index),\n",
    "                              (10**y_site_test)-1,\n",
    "                               (10**pd.Series(y_site_pred, index = y_site_test.index))-1]).T\n",
    "prediction_site.columns = [\"y_log\",\"y_predict_log\", \"y\", \"y_predict\"]\n"
   ]
  },
  {
   "cell_type": "code",
   "execution_count": 69,
   "id": "385687c8",
   "metadata": {},
   "outputs": [
    {
     "data": {
      "text/plain": [
       "Text(0.5, 0.98, 'Comparaison des résultats pour Site Energy Use')"
      ]
     },
     "execution_count": 69,
     "metadata": {},
     "output_type": "execute_result"
    },
    {
     "data": {
      "image/png": "[encoded data removed]",
      "text/plain": [
       "<Figure size 1080x576 with 3 Axes>"
      ]
     },
     "metadata": {
      "needs_background": "light"
     },
     "output_type": "display_data"
    }
   ],
   "source": [
    "fig, (ax1, ax2) = plt.subplots(1, 2, figsize=(15,8), sharey=False)\n",
    "\n",
    "X_plot = [prediction_site['y_log'].min(), prediction_site['y_log'].max()]\n",
    "sns.lineplot(X_plot, X_plot,color = \"red\", ax= ax1)\n",
    "sns.scatterplot(x = prediction_site['y_log'],\n",
    "               y = prediction_site['y_predict_log'],\n",
    "               ax = ax1)\n",
    "\n",
    "X_plot = [prediction_site['y'].min(), prediction_site['y'].max()]\n",
    "sns.lineplot(X_plot, X_plot,color = \"red\", ax= ax2)\n",
    "sns.scatterplot(x = prediction_site['y'],\n",
    "               y = prediction_site['y_predict'],\n",
    "               ax=ax2)\n",
    "\n",
    "ax3 = plt.axes([0.6, 0.6, .2, .2])\n",
    "X_plot = [prediction_site['y'].min(), prediction_site['y'].max()]\n",
    "sns.lineplot(X_plot, X_plot,color = \"red\", ax= ax3)\n",
    "sns.scatterplot(x = prediction_site['y'],\n",
    "               y = prediction_site['y_predict'], ax=ax3)\n",
    "ax3.set_title('zoom')\n",
    "ax3.set_xlim([0.0,0.5*1e8])\n",
    "ax3.set_ylim([0.0,1*1e8])\n",
    "\n",
    "ax1.set_aspect('equal', 'box')\n",
    "\n",
    "ax2.set_aspect('equal', 'box')\n",
    "\n",
    "ax1.title.set_text('Comparaison y et y_prediction (modèle en log)')\n",
    "ax2.title.set_text('Comparaison y et y_prediction en valeurs réelles')\n",
    "fig.suptitle('Comparaison des résultats pour Site Energy Use')"
   ]
  },
  {
   "cell_type": "code",
   "execution_count": 70,
   "id": "fbc0a47f",
   "metadata": {},
   "outputs": [
    {
     "data": {
      "text/plain": [
       "Text(0.5, 0.98, 'Comparaison des résultats pour les Emissions de Co2')"
      ]
     },
     "execution_count": 70,
     "metadata": {},
     "output_type": "execute_result"
    },
    {
     "data": {
      "image/png": "[encoded data removed]",
      "text/plain": [
       "<Figure size 1080x576 with 3 Axes>"
      ]
     },
     "metadata": {
      "needs_background": "light"
     },
     "output_type": "display_data"
    }
   ],
   "source": [
    "#création d'un dataframe des prédiction avec la tranformation log ou non.\n",
    "y_co2_pred = rf_co2_optimal.predict(X_Co2_test)\n",
    "\n",
    "prediction_co2 = pd.DataFrame([y_Co2_test,pd.Series(y_co2_pred, index = y_Co2_test.index),\n",
    "                              (10**y_Co2_test)-1,\n",
    "                               (10**pd.Series(y_co2_pred, index = y_Co2_test.index))-1]).T\n",
    "prediction_co2.columns = [\"y_log\",\"y_predict_log\", \"y\", \"y_predict\"]\n",
    "\n",
    "\n",
    "\n",
    "fig, (ax1, ax2) = plt.subplots(1, 2, figsize=(15,8), sharey=False)\n",
    "\n",
    "X_plot = [prediction_co2['y_log'].min(), prediction_co2['y_log'].max()]\n",
    "sns.lineplot(X_plot, X_plot,color = \"red\", ax= ax1)\n",
    "sns.scatterplot(x = prediction_co2['y_log'],\n",
    "               y = prediction_co2['y_predict_log'],\n",
    "               ax = ax1)\n",
    "\n",
    "X_plot = [prediction_co2['y'].min(), prediction_co2['y'].max()]\n",
    "sns.lineplot(X_plot, X_plot,color = \"red\", ax= ax2)\n",
    "sns.scatterplot(x = prediction_co2['y'],\n",
    "               y = prediction_co2['y_predict'],\n",
    "               ax=ax2)\n",
    "\n",
    "ax3 = plt.axes([0.6, 0.6, .2, .2])\n",
    "X_plot = [prediction_co2['y'].min(), prediction_co2['y'].max()]\n",
    "sns.lineplot(X_plot, X_plot,color = \"red\", ax= ax3)\n",
    "sns.scatterplot(x = prediction_co2['y'],\n",
    "               y = prediction_co2['y_predict'], ax=ax3)\n",
    "ax3.set_title('zoom')\n",
    "ax3.set_xlim([0.0,1000])\n",
    "ax3.set_ylim([0.0,1000])\n",
    "ax1.set_aspect('equal', 'box')\n",
    "\n",
    "ax2.set_aspect('equal', 'box')\n",
    "\n",
    "ax1.title.set_text('Comparaison y et y_prediction (modèle en log)')\n",
    "ax2.title.set_text('Comparaison y et y_prediction en valeurs réelles')\n",
    "fig.suptitle('Comparaison des résultats pour les Emissions de Co2')"
   ]
  },
  {
   "cell_type": "markdown",
   "id": "50a63e5b",
   "metadata": {},
   "source": [
    "- La transformation log 10 à amplifié les erreurs.\n",
    "- Nous avions garder les bâtiments résidentiels afin d'avoir plus de données d'entrainements. Il faudra les retirer conformément à la consigne de prédire sur les bâtiments non destinés à l'habitation.\n",
    "\n",
    "-----------------------------\n",
    "--------------------------------\n",
    "# Pistes d'amélioration \n",
    " \n",
    " - Obtenir plus de données car le jeu de donné était relativement petit après suppression des duplicatas \n",
    " - Revoir la gestion des duplicatas avec une méthode plus affinée que la valeur médiane. \n",
    " - Sélectionner les features importantes mises en avant avec le feature importance\n",
    " - faire un bootstrap : entraîner différents modèles sur différentes vues de données\n",
    " - faire un stacking  : combiner au mieux les modèles qui sont individuellement performants\n",
    " \n"
   ]
  },
  {
   "cell_type": "markdown",
   "id": "f7cb15b1",
   "metadata": {},
   "source": [
    "## Interet de Energy star score \n",
    "\n",
    "### Encodage"
   ]
  },
  {
   "cell_type": "code",
   "execution_count": 71,
   "id": "2804b063",
   "metadata": {},
   "outputs": [],
   "source": [
    "X_site_ES_train[categorical_ES]= encoder.fit_transform(X_site_ES_train[categorical_ES], y_site_ES_train)\n",
    "X_site_ES_test[categorical_ES]= encoder.fit_transform(X_site_ES_test[categorical_ES], y_site_ES_test)\n",
    "\n",
    "\n",
    "X_Co2_ES_train[categorical_ES]=encoder.fit_transform(X_Co2_ES_train[categorical_ES], y_Co2_ES_train)\n",
    "X_Co2_ES_test[categorical_ES]=encoder.fit_transform(X_Co2_ES_test[categorical_ES], y_Co2_ES_test)"
   ]
  },
  {
   "cell_type": "markdown",
   "id": "823e1688",
   "metadata": {},
   "source": [
    "### Standardisation"
   ]
  },
  {
   "cell_type": "code",
   "execution_count": 72,
   "id": "cf7b81f6",
   "metadata": {},
   "outputs": [],
   "source": [
    "X_site_ES_train[numerical_ES]= scaler.fit_transform(X_site_ES_train[numerical_ES])\n",
    "X_site_ES_test[numerical_ES]= scaler.fit_transform(X_site_ES_test[numerical_ES])\n",
    "\n",
    "\n",
    "X_Co2_ES_train[numerical_ES]=scaler.fit_transform(X_Co2_ES_train[numerical_ES])\n",
    "X_Co2_ES_test[numerical_ES]=scaler.fit_transform(X_Co2_ES_test[numerical_ES])"
   ]
  },
  {
   "cell_type": "markdown",
   "id": "9445d88e",
   "metadata": {},
   "source": [
    "### Entrainement et cross validation"
   ]
  },
  {
   "cell_type": "code",
   "execution_count": 73,
   "id": "7073ca04",
   "metadata": {},
   "outputs": [
    {
     "name": "stdout",
     "output_type": "stream",
     "text": [
      "Durée d'exécution de gridCV: 794.8667781352997s\n"
     ]
    }
   ],
   "source": [
    "rf_co2_ES = gridCV(RandomForestRegressor(), random_parameters, X_Co2_ES_train, y_Co2_ES_train,5)"
   ]
  },
  {
   "cell_type": "code",
   "execution_count": 74,
   "id": "13bee6e5",
   "metadata": {},
   "outputs": [
    {
     "name": "stdout",
     "output_type": "stream",
     "text": [
      "Durée d'exécution de resultats_grid: 0.06699657440185547s\n"
     ]
    }
   ],
   "source": [
    "rf_res_ES = resultats_grid(rf_co2_ES, \"RF_ES_Co2\",X_Co2_ES_train, y_Co2_ES_train)\n"
   ]
  },
  {
   "cell_type": "code",
   "execution_count": 75,
   "id": "a141b334",
   "metadata": {},
   "outputs": [
    {
     "name": "stdout",
     "output_type": "stream",
     "text": [
      "Durée d'exécution de gridCV: 721.0192704200745s\n"
     ]
    }
   ],
   "source": [
    "rf_ES = gridCV(RandomForestRegressor(), random_parameters, X_site_ES_train, y_site_ES_train,5)"
   ]
  },
  {
   "cell_type": "code",
   "execution_count": 76,
   "id": "16b7866e",
   "metadata": {},
   "outputs": [
    {
     "name": "stdout",
     "output_type": "stream",
     "text": [
      "Durée d'exécution de resultats_grid: 0.050997257232666016s\n"
     ]
    }
   ],
   "source": [
    "rf_result = resultats_grid(rf_ES, \"RF_ES_SEU\", X_site_ES_train, y_site_ES_train)\n",
    "\n",
    "\n",
    "res_ES = pd.concat([rf_res_ES,rf_result], ignore_index=True)"
   ]
  },
  {
   "cell_type": "markdown",
   "id": "052a6243",
   "metadata": {},
   "source": [
    "Entraînons le modèle sur le même nombre de données "
   ]
  },
  {
   "cell_type": "code",
   "execution_count": 77,
   "id": "86f7dd52",
   "metadata": {},
   "outputs": [
    {
     "name": "stdout",
     "output_type": "stream",
     "text": [
      "Durée d'exécution de gridCV: 635.0272226333618s\n",
      "Durée d'exécution de resultats_grid: 0.046878814697265625s\n",
      "Durée d'exécution de gridCV: 615.3009254932404s\n",
      "Durée d'exécution de resultats_grid: 0.04688525199890137s\n"
     ]
    }
   ],
   "source": [
    "X_ES_site_train = X_site_ES_train.drop(['ENERGYSTARScore'], axis = 1)\n",
    "X_ES_site_test = X_site_ES_test.drop(['ENERGYSTARScore'], axis = 1)\n",
    "\n",
    "X_ES_co2_train = X_Co2_ES_train.drop(['ENERGYSTARScore'], axis = 1)\n",
    "X_ES_co2_test = X_Co2_ES_test.drop(['ENERGYSTARScore'], axis = 1)\n",
    "\n",
    "rf_co2_ES_total = gridCV(RandomForestRegressor(), random_parameters, X_ES_co2_train, y_Co2_ES_train,5)\n",
    "rf_res_ES_total = resultats_grid(rf_co2_ES_total, \"RF_ES_Co2 sans ES\",X_ES_co2_train, y_Co2_ES_train)\n",
    "res_ES = pd.concat([res_ES,rf_res_ES_total], ignore_index=True)\n",
    "\n",
    "\n",
    "\n",
    "rf_ES_total = gridCV(RandomForestRegressor(), random_parameters, X_ES_site_train, y_site_ES_train,5)\n",
    "rf_result_total = resultats_grid(rf_ES_total, \"RF_ES_SEU sans ES\", X_ES_site_train, y_site_ES_train)\n",
    "res_ES = pd.concat([res_ES,rf_result_total], ignore_index=True)"
   ]
  },
  {
   "cell_type": "markdown",
   "id": "f4fc72e3",
   "metadata": {},
   "source": [
    "#### Comparaison "
   ]
  },
  {
   "cell_type": "code",
   "execution_count": 78,
   "id": "d2e418de",
   "metadata": {},
   "outputs": [
    {
     "data": {
      "text/html": [
       "<style type=\"text/css\">\n",
       "</style>\n",
       "<table id=\"T_daa4d\">\n",
       "  <thead>\n",
       "    <tr>\n",
       "      <th id=\"T_daa4d_level0_col0\" class=\"col_heading level0 col0\" >modèle</th>\n",
       "      <th id=\"T_daa4d_level0_col1\" class=\"col_heading level0 col1\" >Fit time</th>\n",
       "      <th id=\"T_daa4d_level0_col2\" class=\"col_heading level0 col2\" >Score time</th>\n",
       "      <th id=\"T_daa4d_level0_col3\" class=\"col_heading level0 col3\" >Mean train score RMSE</th>\n",
       "      <th id=\"T_daa4d_level0_col4\" class=\"col_heading level0 col4\" >Mean test score RMSE</th>\n",
       "      <th id=\"T_daa4d_level0_col5\" class=\"col_heading level0 col5\" >Best estimator</th>\n",
       "      <th id=\"T_daa4d_level0_col6\" class=\"col_heading level0 col6\" >RMSE best estimator</th>\n",
       "    </tr>\n",
       "  </thead>\n",
       "  <tbody>\n",
       "    <tr>\n",
       "      <td id=\"T_daa4d_row0_col0\" class=\"data row0 col0\" >RF_ES_Co2</td>\n",
       "      <td id=\"T_daa4d_row0_col1\" class=\"data row0 col1\" >0.504997</td>\n",
       "      <td id=\"T_daa4d_row0_col2\" class=\"data row0 col2\" >0.016228</td>\n",
       "      <td id=\"T_daa4d_row0_col3\" class=\"data row0 col3\" >0.187654</td>\n",
       "      <td id=\"T_daa4d_row0_col4\" class=\"data row0 col4\" >0.280976</td>\n",
       "      <td id=\"T_daa4d_row0_col5\" class=\"data row0 col5\" >{'bootstrap': False, 'max_depth': 25, 'max_features': 'sqrt', 'min_samples_leaf': 1, 'min_samples_split': 5}</td>\n",
       "      <td id=\"T_daa4d_row0_col6\" class=\"data row0 col6\" >0.049074</td>\n",
       "    </tr>\n",
       "    <tr>\n",
       "      <td id=\"T_daa4d_row1_col0\" class=\"data row1 col0\" >RF_ES_SEU</td>\n",
       "      <td id=\"T_daa4d_row1_col1\" class=\"data row1 col1\" >0.457212</td>\n",
       "      <td id=\"T_daa4d_row1_col2\" class=\"data row1 col2\" >0.014835</td>\n",
       "      <td id=\"T_daa4d_row1_col3\" class=\"data row1 col3\" >0.143840</td>\n",
       "      <td id=\"T_daa4d_row1_col4\" class=\"data row1 col4\" >0.215316</td>\n",
       "      <td id=\"T_daa4d_row1_col5\" class=\"data row1 col5\" >{'bootstrap': True, 'max_depth': 15, 'max_features': 'auto', 'min_samples_leaf': 1, 'min_samples_split': 5}</td>\n",
       "      <td id=\"T_daa4d_row1_col6\" class=\"data row1 col6\" >0.083847</td>\n",
       "    </tr>\n",
       "    <tr>\n",
       "      <td id=\"T_daa4d_row2_col0\" class=\"data row2 col0\" >RF_ES_Co2 sans ES</td>\n",
       "      <td id=\"T_daa4d_row2_col1\" class=\"data row2 col1\" >0.401821</td>\n",
       "      <td id=\"T_daa4d_row2_col2\" class=\"data row2 col2\" >0.013624</td>\n",
       "      <td id=\"T_daa4d_row2_col3\" class=\"data row2 col3\" >0.198831</td>\n",
       "      <td id=\"T_daa4d_row2_col4\" class=\"data row2 col4\" >0.293247</td>\n",
       "      <td id=\"T_daa4d_row2_col5\" class=\"data row2 col5\" >{'bootstrap': False, 'max_depth': 15, 'max_features': 'sqrt', 'min_samples_leaf': 1, 'min_samples_split': 2}</td>\n",
       "      <td id=\"T_daa4d_row2_col6\" class=\"data row2 col6\" >0.067989</td>\n",
       "    </tr>\n",
       "    <tr>\n",
       "      <td id=\"T_daa4d_row3_col0\" class=\"data row3 col0\" >RF_ES_SEU sans ES</td>\n",
       "      <td id=\"T_daa4d_row3_col1\" class=\"data row3 col1\" >0.388207</td>\n",
       "      <td id=\"T_daa4d_row3_col2\" class=\"data row3 col2\" >0.013592</td>\n",
       "      <td id=\"T_daa4d_row3_col3\" class=\"data row3 col3\" >0.161006</td>\n",
       "      <td id=\"T_daa4d_row3_col4\" class=\"data row3 col4\" >0.238776</td>\n",
       "      <td id=\"T_daa4d_row3_col5\" class=\"data row3 col5\" >{'bootstrap': False, 'max_depth': 15, 'max_features': 'sqrt', 'min_samples_leaf': 2, 'min_samples_split': 5}</td>\n",
       "      <td id=\"T_daa4d_row3_col6\" class=\"data row3 col6\" >0.094605</td>\n",
       "    </tr>\n",
       "  </tbody>\n",
       "</table>\n"
      ],
      "text/plain": [
       "<pandas.io.formats.style.Styler at 0x15cc6532220>"
      ]
     },
     "execution_count": 78,
     "metadata": {},
     "output_type": "execute_result"
    }
   ],
   "source": [
    "res_ES.style.hide_index()"
   ]
  },
  {
   "cell_type": "code",
   "execution_count": 79,
   "id": "c1b380f1",
   "metadata": {},
   "outputs": [
    {
     "data": {
      "text/plain": [
       "<AxesSubplot:xlabel='modèle'>"
      ]
     },
     "execution_count": 79,
     "metadata": {},
     "output_type": "execute_result"
    },
    {
     "data": {
      "image/png": "[encoded data removed]",
      "text/plain": [
       "<Figure size 432x288 with 1 Axes>"
      ]
     },
     "metadata": {
      "needs_background": "light"
     },
     "output_type": "display_data"
    }
   ],
   "source": [
    "res_ES.plot.bar(x= \"modèle\", y=\"RMSE best estimator\" )"
   ]
  },
  {
   "cell_type": "markdown",
   "id": "c3efc3e9",
   "metadata": {},
   "source": [
    "- Le score pour la **consommation d'énergie** s'est amélioré. \n",
    "\n",
    "- Le score pour les **émissions de Co2** s'est légerement amélioré. \n",
    "\n",
    " Cette amélioration peut être aidé par le faible nombre de données.  \n",
    " \n",
    " Elle découle aussi du fait que l'energy star est calculé à l'aide des source d'energies du bâtiment."
   ]
  },
  {
   "cell_type": "markdown",
   "id": "17b6a2a5",
   "metadata": {},
   "source": [
    "#### Features importances"
   ]
  },
  {
   "cell_type": "code",
   "execution_count": 80,
   "id": "04a4accf",
   "metadata": {},
   "outputs": [
    {
     "data": {
      "text/html": [
       "<div>\n",
       "<style scoped>\n",
       "    .dataframe tbody tr th:only-of-type {\n",
       "        vertical-align: middle;\n",
       "    }\n",
       "\n",
       "    .dataframe tbody tr th {\n",
       "        vertical-align: top;\n",
       "    }\n",
       "\n",
       "    .dataframe thead th {\n",
       "        text-align: right;\n",
       "    }\n",
       "</style>\n",
       "<table border=\"1\" class=\"dataframe\">\n",
       "  <thead>\n",
       "    <tr style=\"text-align: right;\">\n",
       "      <th></th>\n",
       "      <th>Feature Importance</th>\n",
       "      <th>Feature Name</th>\n",
       "    </tr>\n",
       "  </thead>\n",
       "  <tbody>\n",
       "    <tr>\n",
       "      <th>9</th>\n",
       "      <td>0.000000</td>\n",
       "      <td>Electricity(kBtu)</td>\n",
       "    </tr>\n",
       "    <tr>\n",
       "      <th>17</th>\n",
       "      <td>0.006067</td>\n",
       "      <td>RateThirdLargestPropertyUseType</td>\n",
       "    </tr>\n",
       "    <tr>\n",
       "      <th>18</th>\n",
       "      <td>0.006710</td>\n",
       "      <td>NumberOfAllUseTypes</td>\n",
       "    </tr>\n",
       "    <tr>\n",
       "      <th>4</th>\n",
       "      <td>0.007300</td>\n",
       "      <td>SecondLargestPropertyUseType</td>\n",
       "    </tr>\n",
       "    <tr>\n",
       "      <th>5</th>\n",
       "      <td>0.008478</td>\n",
       "      <td>ThirdLargestPropertyUseType</td>\n",
       "    </tr>\n",
       "    <tr>\n",
       "      <th>11</th>\n",
       "      <td>0.008694</td>\n",
       "      <td>RateParking</td>\n",
       "    </tr>\n",
       "    <tr>\n",
       "      <th>12</th>\n",
       "      <td>0.009470</td>\n",
       "      <td>RateBuilding</td>\n",
       "    </tr>\n",
       "    <tr>\n",
       "      <th>16</th>\n",
       "      <td>0.013329</td>\n",
       "      <td>RateSecondLargestPropertyUseType</td>\n",
       "    </tr>\n",
       "    <tr>\n",
       "      <th>15</th>\n",
       "      <td>0.021704</td>\n",
       "      <td>RateLargestPropertyUseType</td>\n",
       "    </tr>\n",
       "    <tr>\n",
       "      <th>2</th>\n",
       "      <td>0.022666</td>\n",
       "      <td>Neighborhood</td>\n",
       "    </tr>\n",
       "    <tr>\n",
       "      <th>8</th>\n",
       "      <td>0.027010</td>\n",
       "      <td>SteamUse(kBtu)</td>\n",
       "    </tr>\n",
       "    <tr>\n",
       "      <th>6</th>\n",
       "      <td>0.041425</td>\n",
       "      <td>BuildingAge</td>\n",
       "    </tr>\n",
       "    <tr>\n",
       "      <th>19</th>\n",
       "      <td>0.042996</td>\n",
       "      <td>haversine_distance</td>\n",
       "    </tr>\n",
       "    <tr>\n",
       "      <th>7</th>\n",
       "      <td>0.044998</td>\n",
       "      <td>ENERGYSTARScore</td>\n",
       "    </tr>\n",
       "    <tr>\n",
       "      <th>3</th>\n",
       "      <td>0.048093</td>\n",
       "      <td>LargestPropertyUseType</td>\n",
       "    </tr>\n",
       "    <tr>\n",
       "      <th>0</th>\n",
       "      <td>0.052146</td>\n",
       "      <td>BuildingType</td>\n",
       "    </tr>\n",
       "    <tr>\n",
       "      <th>1</th>\n",
       "      <td>0.053775</td>\n",
       "      <td>PrimaryPropertyType</td>\n",
       "    </tr>\n",
       "    <tr>\n",
       "      <th>13</th>\n",
       "      <td>0.082502</td>\n",
       "      <td>RatePerFloors</td>\n",
       "    </tr>\n",
       "    <tr>\n",
       "      <th>14</th>\n",
       "      <td>0.235225</td>\n",
       "      <td>RatePerBuildings</td>\n",
       "    </tr>\n",
       "    <tr>\n",
       "      <th>10</th>\n",
       "      <td>0.267412</td>\n",
       "      <td>NaturalGas(kBtu)</td>\n",
       "    </tr>\n",
       "  </tbody>\n",
       "</table>\n",
       "</div>"
      ],
      "text/plain": [
       "    Feature Importance                      Feature Name\n",
       "9             0.000000                 Electricity(kBtu)\n",
       "17            0.006067   RateThirdLargestPropertyUseType\n",
       "18            0.006710               NumberOfAllUseTypes\n",
       "4             0.007300      SecondLargestPropertyUseType\n",
       "5             0.008478       ThirdLargestPropertyUseType\n",
       "11            0.008694                       RateParking\n",
       "12            0.009470                      RateBuilding\n",
       "16            0.013329  RateSecondLargestPropertyUseType\n",
       "15            0.021704        RateLargestPropertyUseType\n",
       "2             0.022666                      Neighborhood\n",
       "8             0.027010                    SteamUse(kBtu)\n",
       "6             0.041425                       BuildingAge\n",
       "19            0.042996                haversine_distance\n",
       "7             0.044998                   ENERGYSTARScore\n",
       "3             0.048093            LargestPropertyUseType\n",
       "0             0.052146                      BuildingType\n",
       "1             0.053775               PrimaryPropertyType\n",
       "13            0.082502                     RatePerFloors\n",
       "14            0.235225                  RatePerBuildings\n",
       "10            0.267412                  NaturalGas(kBtu)"
      ]
     },
     "metadata": {},
     "output_type": "display_data"
    },
    {
     "data": {
      "image/png": "[encoded data removed]",
      "text/plain": [
       "<Figure size 720x504 with 1 Axes>"
      ]
     },
     "metadata": {
      "needs_background": "light"
     },
     "output_type": "display_data"
    }
   ],
   "source": [
    "rf_co2_ES_model = rf_co2_ES.best_estimator_\n",
    "rf_site_ES_model = rf_ES.best_estimator_\n",
    "\n",
    "affic_features_impotance_model(rf_co2_ES_model, X_Co2_ES_test,\" RF sur les émissions de co2 avec Energy Star \")"
   ]
  },
  {
   "cell_type": "code",
   "execution_count": 81,
   "id": "9402d3f5",
   "metadata": {},
   "outputs": [
    {
     "data": {
      "text/html": [
       "<div>\n",
       "<style scoped>\n",
       "    .dataframe tbody tr th:only-of-type {\n",
       "        vertical-align: middle;\n",
       "    }\n",
       "\n",
       "    .dataframe tbody tr th {\n",
       "        vertical-align: top;\n",
       "    }\n",
       "\n",
       "    .dataframe thead th {\n",
       "        text-align: right;\n",
       "    }\n",
       "</style>\n",
       "<table border=\"1\" class=\"dataframe\">\n",
       "  <thead>\n",
       "    <tr style=\"text-align: right;\">\n",
       "      <th></th>\n",
       "      <th>Feature Importance</th>\n",
       "      <th>Feature Name</th>\n",
       "    </tr>\n",
       "  </thead>\n",
       "  <tbody>\n",
       "    <tr>\n",
       "      <th>9</th>\n",
       "      <td>0.000000</td>\n",
       "      <td>Electricity(kBtu)</td>\n",
       "    </tr>\n",
       "    <tr>\n",
       "      <th>8</th>\n",
       "      <td>0.000582</td>\n",
       "      <td>SteamUse(kBtu)</td>\n",
       "    </tr>\n",
       "    <tr>\n",
       "      <th>17</th>\n",
       "      <td>0.001470</td>\n",
       "      <td>RateThirdLargestPropertyUseType</td>\n",
       "    </tr>\n",
       "    <tr>\n",
       "      <th>4</th>\n",
       "      <td>0.001525</td>\n",
       "      <td>SecondLargestPropertyUseType</td>\n",
       "    </tr>\n",
       "    <tr>\n",
       "      <th>5</th>\n",
       "      <td>0.001599</td>\n",
       "      <td>ThirdLargestPropertyUseType</td>\n",
       "    </tr>\n",
       "    <tr>\n",
       "      <th>12</th>\n",
       "      <td>0.002991</td>\n",
       "      <td>RateBuilding</td>\n",
       "    </tr>\n",
       "    <tr>\n",
       "      <th>11</th>\n",
       "      <td>0.003272</td>\n",
       "      <td>RateParking</td>\n",
       "    </tr>\n",
       "    <tr>\n",
       "      <th>0</th>\n",
       "      <td>0.004863</td>\n",
       "      <td>BuildingType</td>\n",
       "    </tr>\n",
       "    <tr>\n",
       "      <th>16</th>\n",
       "      <td>0.005254</td>\n",
       "      <td>RateSecondLargestPropertyUseType</td>\n",
       "    </tr>\n",
       "    <tr>\n",
       "      <th>18</th>\n",
       "      <td>0.005989</td>\n",
       "      <td>NumberOfAllUseTypes</td>\n",
       "    </tr>\n",
       "    <tr>\n",
       "      <th>2</th>\n",
       "      <td>0.006339</td>\n",
       "      <td>Neighborhood</td>\n",
       "    </tr>\n",
       "    <tr>\n",
       "      <th>19</th>\n",
       "      <td>0.013813</td>\n",
       "      <td>haversine_distance</td>\n",
       "    </tr>\n",
       "    <tr>\n",
       "      <th>6</th>\n",
       "      <td>0.015038</td>\n",
       "      <td>BuildingAge</td>\n",
       "    </tr>\n",
       "    <tr>\n",
       "      <th>15</th>\n",
       "      <td>0.017911</td>\n",
       "      <td>RateLargestPropertyUseType</td>\n",
       "    </tr>\n",
       "    <tr>\n",
       "      <th>13</th>\n",
       "      <td>0.030129</td>\n",
       "      <td>RatePerFloors</td>\n",
       "    </tr>\n",
       "    <tr>\n",
       "      <th>10</th>\n",
       "      <td>0.030284</td>\n",
       "      <td>NaturalGas(kBtu)</td>\n",
       "    </tr>\n",
       "    <tr>\n",
       "      <th>1</th>\n",
       "      <td>0.034175</td>\n",
       "      <td>PrimaryPropertyType</td>\n",
       "    </tr>\n",
       "    <tr>\n",
       "      <th>3</th>\n",
       "      <td>0.049786</td>\n",
       "      <td>LargestPropertyUseType</td>\n",
       "    </tr>\n",
       "    <tr>\n",
       "      <th>7</th>\n",
       "      <td>0.081718</td>\n",
       "      <td>ENERGYSTARScore</td>\n",
       "    </tr>\n",
       "    <tr>\n",
       "      <th>14</th>\n",
       "      <td>0.693265</td>\n",
       "      <td>RatePerBuildings</td>\n",
       "    </tr>\n",
       "  </tbody>\n",
       "</table>\n",
       "</div>"
      ],
      "text/plain": [
       "    Feature Importance                      Feature Name\n",
       "9             0.000000                 Electricity(kBtu)\n",
       "8             0.000582                    SteamUse(kBtu)\n",
       "17            0.001470   RateThirdLargestPropertyUseType\n",
       "4             0.001525      SecondLargestPropertyUseType\n",
       "5             0.001599       ThirdLargestPropertyUseType\n",
       "12            0.002991                      RateBuilding\n",
       "11            0.003272                       RateParking\n",
       "0             0.004863                      BuildingType\n",
       "16            0.005254  RateSecondLargestPropertyUseType\n",
       "18            0.005989               NumberOfAllUseTypes\n",
       "2             0.006339                      Neighborhood\n",
       "19            0.013813                haversine_distance\n",
       "6             0.015038                       BuildingAge\n",
       "15            0.017911        RateLargestPropertyUseType\n",
       "13            0.030129                     RatePerFloors\n",
       "10            0.030284                  NaturalGas(kBtu)\n",
       "1             0.034175               PrimaryPropertyType\n",
       "3             0.049786            LargestPropertyUseType\n",
       "7             0.081718                   ENERGYSTARScore\n",
       "14            0.693265                  RatePerBuildings"
      ]
     },
     "metadata": {},
     "output_type": "display_data"
    },
    {
     "data": {
      "image/png": "[encoded data removed]",
      "text/plain": [
       "<Figure size 720x504 with 1 Axes>"
      ]
     },
     "metadata": {
      "needs_background": "light"
     },
     "output_type": "display_data"
    }
   ],
   "source": [
    "affic_features_impotance_model(rf_site_ES_model, X_site_ES_test, \" RF sur la consommation d'énergie avec Energy Star \")"
   ]
  },
  {
   "cell_type": "markdown",
   "id": "033f6881",
   "metadata": {},
   "source": [
    " -  On remarque la bonne position du score , 2eme pour la consommation totale des bâtiments et 4eme pour les émissions de Co2. \n",
    "\n",
    "\n",
    "> On en déduit que **l'energy star score est pertinent** pour prédire la consommation en énergie des bâtiments, un peu moins mais tout de même pertinent aussi pour les émissions de Co2. "
   ]
  }
 ],
 "metadata": {
  "kernelspec": {
   "display_name": "Python 3 (ipykernel)",
   "language": "python",
   "name": "python3"
  },
  "language_info": {
   "codemirror_mode": {
    "name": "ipython",
    "version": 3
   },
   "file_extension": ".py",
   "mimetype": "text/x-python",
   "name": "python",
   "nbconvert_exporter": "python",
   "pygments_lexer": "ipython3",
   "version": "3.9.7"
  },
  "toc": {
   "base_numbering": 1,
   "nav_menu": {},
   "number_sections": true,
   "sideBar": true,
   "skip_h1_title": true,
   "title_cell": "Table of Contents",
   "title_sidebar": "Contents",
   "toc_cell": true,
   "toc_position": {
    "height": "calc(100% - 180px)",
    "left": "10px",
    "top": "150px",
    "width": "347.641px"
   },
   "toc_section_display": true,
   "toc_window_display": true
  }
 },
 "nbformat": 4,
 "nbformat_minor": 5
}
